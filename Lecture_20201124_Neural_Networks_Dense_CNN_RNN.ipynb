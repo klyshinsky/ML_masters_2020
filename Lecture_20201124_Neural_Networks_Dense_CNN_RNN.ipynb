{
 "cells": [
  {
   "cell_type": "markdown",
   "metadata": {},
   "source": [
    "# Функции потерь"
   ]
  },
  {
   "cell_type": "markdown",
   "metadata": {},
   "source": [
    "\n",
    "#### 1. (R)MSE ((Root) Mean Squared Error)\n",
    "\n",
    "$$ L(\\hat{y}, y) = \\frac{1}{N}\\sum\\limits_n^N (y_n - \\hat{y}_n)^2$$\n",
    "\n",
    "#### 2. MAE (Mean Absolute Error)\n",
    "\n",
    "$$ L(\\hat{y}, y) = \\frac{1}{N}\\sum\\limits_n^N |y_n - \\hat{y}_n|$$\n",
    "\n",
    "* Чем плохи такие метрики?\n",
    "* Отличия - http://yahwes.github.io/2016/03/22/mae-rmse/"
   ]
  },
  {
   "cell_type": "markdown",
   "metadata": {},
   "source": [
    "**3. RSE (Relative Squared Error)**\n",
    "\n",
    "$$ L(\\hat{y}, y) = \\sqrt\\frac{\\sum\\limits_n^N (y_n - \\hat{y}_n)^2}{\\sum\\limits_n^N (y_n - \\bar{y})^2}$$\n",
    "\n",
    "**4. RAE (Relative Absolute Error)**\n",
    "\n",
    "$$ L(\\hat{y}, y) = \\frac{\\sum\\limits_n^N |y_n - \\hat{y}_n|}{\\sum\\limits_n^N |y_n - \\bar{y}|}$$\n",
    "\n",
    "**5. MAPE (Mean Absolute Persentage Error)**\n",
    "\n",
    "$$ L(\\hat{y}, y) = \\frac{100}{N} \\sum\\limits_n^N\\left|\\frac{ y_n - \\hat{y}_n}{y_n}\\right|$$\n",
    "\n",
    "\n"
   ]
  },
  {
   "cell_type": "markdown",
   "metadata": {},
   "source": [
    "**6. RMSLE (Root Mean Squared Logarithmic Error)**\n",
    "\n",
    "$$ L(\\hat{y}, y) = \\sqrt{\\frac{1}{N}\\sum\\limits_n^N(\\log(y_n + 1) - \\log(\\hat{y}_n + 1))^2}$$"
   ]
  },
  {
   "cell_type": "markdown",
   "metadata": {},
   "source": [
    "# Искусственные нейронные сети"
   ]
  },
  {
   "cell_type": "markdown",
   "metadata": {},
   "source": [
    "Считываем набор данных цифр MNIST."
   ]
  },
  {
   "cell_type": "code",
   "execution_count": 102,
   "metadata": {},
   "outputs": [],
   "source": [
    "from sklearn.datasets import load_digits\n",
    "import matplotlib.pyplot as plt\n",
    "from sklearn.model_selection import train_test_split\n",
    "from sklearn.metrics import confusion_matrix, precision_recall_fscore_support, accuracy_score\n",
    "import numpy as np"
   ]
  },
  {
   "cell_type": "code",
   "execution_count": 103,
   "metadata": {},
   "outputs": [],
   "source": [
    "digits = load_digits()"
   ]
  },
  {
   "cell_type": "code",
   "execution_count": 104,
   "metadata": {},
   "outputs": [
    {
     "data": {
      "image/png": "[encoded data removed]",
      "text/plain": [
       "<Figure size 432x288 with 1 Axes>"
      ]
     },
     "metadata": {
      "needs_background": "light"
     },
     "output_type": "display_data"
    }
   ],
   "source": [
    "img = digits.images\n",
    "plt.imshow(img[1], cmap=plt.cm.Greys_r);"
   ]
  },
  {
   "cell_type": "code",
   "execution_count": 105,
   "metadata": {},
   "outputs": [],
   "source": [
    "X = img.reshape(-1, 64)\n",
    "y = digits.target\n",
    "train_x, test_x, train_y, test_y = train_test_split(X, y, test_size=0.2)\n",
    "test_y = test_y.reshape(1, -1)"
   ]
  },
  {
   "cell_type": "markdown",
   "metadata": {},
   "source": [
    "Персептрон из библиотеки [sklearn](https://scikit-learn.org/stable/modules/generated/sklearn.neural_network.MLPClassifier.html?highlight=mlpclassifier#sklearn.neural_network.MLPClassifier)."
   ]
  },
  {
   "cell_type": "code",
   "execution_count": 5,
   "metadata": {},
   "outputs": [],
   "source": [
    "from sklearn.neural_network import MLPClassifier"
   ]
  },
  {
   "cell_type": "code",
   "execution_count": 60,
   "metadata": {},
   "outputs": [],
   "source": [
    "model = MLPClassifier((64, 64), activation='tanh')"
   ]
  },
  {
   "cell_type": "code",
   "execution_count": 46,
   "metadata": {},
   "outputs": [
    {
     "data": {
      "text/plain": [
       "array([3, 4, 5, ..., 8, 8, 6])"
      ]
     },
     "execution_count": 46,
     "metadata": {},
     "output_type": "execute_result"
    }
   ],
   "source": [
    "train_y"
   ]
  },
  {
   "cell_type": "code",
   "execution_count": 61,
   "metadata": {},
   "outputs": [
    {
     "data": {
      "text/plain": [
       "MLPClassifier(activation='tanh', alpha=0.0001, batch_size='auto', beta_1=0.9,\n",
       "              beta_2=0.999, early_stopping=False, epsilon=1e-08,\n",
       "              hidden_layer_sizes=(64, 64), learning_rate='constant',\n",
       "              learning_rate_init=0.001, max_iter=200, momentum=0.9,\n",
       "              n_iter_no_change=10, nesterovs_momentum=True, power_t=0.5,\n",
       "              random_state=None, shuffle=True, solver='adam', tol=0.0001,\n",
       "              validation_fraction=0.1, verbose=False, warm_start=False)"
      ]
     },
     "execution_count": 61,
     "metadata": {},
     "output_type": "execute_result"
    }
   ],
   "source": [
    "model.fit(train_x, train_y)"
   ]
  },
  {
   "cell_type": "code",
   "execution_count": 62,
   "metadata": {},
   "outputs": [],
   "source": [
    "y_hat = model.predict(test_x)"
   ]
  },
  {
   "cell_type": "code",
   "execution_count": 48,
   "metadata": {},
   "outputs": [
    {
     "data": {
      "text/plain": [
       "array([6, 1, 7, 9, 2, 6, 2, 2, 5, 0, 4, 5, 1, 5, 2, 4, 5, 5, 3, 7, 7, 2,\n",
       "       4, 5, 8, 2, 8, 1, 8, 5, 8, 0, 7, 4, 0, 5, 5, 7, 0, 1, 6, 2, 8, 8,\n",
       "       5, 8, 1, 4, 4, 7, 4, 1, 6, 3, 0, 5, 2, 5, 2, 6, 0, 6, 1, 7, 6, 4,\n",
       "       2, 5, 1, 3, 0, 7, 5, 4, 0, 6, 1, 3, 5, 2, 4, 6, 1, 8, 1, 2, 7, 9,\n",
       "       1, 2, 1, 8, 4, 4, 3, 0, 6, 3, 7, 2, 0, 6, 0, 2, 5, 7, 8, 7, 8, 2,\n",
       "       5, 9, 7, 1, 0, 4, 2, 2, 0, 1, 5, 8, 7, 7, 7, 4, 0, 4, 1, 5, 4, 1,\n",
       "       1, 3, 3, 9, 2, 8, 1, 2, 4, 7, 6, 2, 9, 3, 4, 2, 2, 9, 1, 5, 2, 0,\n",
       "       9, 9, 5, 8, 2, 7, 2, 0, 6, 1, 2, 6, 8, 6, 4, 9, 0, 4, 9, 0, 1, 9,\n",
       "       5, 7, 0, 0, 9, 1, 1, 0, 1, 0, 0, 6, 5, 9, 6, 2, 8, 5, 0, 9, 1, 9,\n",
       "       4, 5, 1, 2, 9, 6, 7, 6, 0, 9, 4, 6, 3, 1, 8, 4, 4, 0, 9, 5, 0, 9,\n",
       "       7, 7, 1, 9, 6, 5, 8, 3, 6, 2, 2, 9, 7, 1, 1, 2, 2, 4, 1, 3, 5, 7,\n",
       "       2, 4, 1, 3, 3, 5, 0, 6, 8, 9, 0, 6, 6, 2, 1, 8, 6, 6, 2, 1, 0, 6,\n",
       "       4, 3, 0, 3, 8, 1, 4, 7, 4, 7, 6, 2, 1, 1, 9, 1, 1, 7, 3, 9, 6, 8,\n",
       "       1, 6, 1, 0, 9, 5, 5, 8, 0, 2, 9, 4, 5, 7, 3, 1, 5, 9, 9, 4, 4, 3,\n",
       "       1, 9, 8, 8, 7, 0, 6, 3, 3, 8, 2, 7, 3, 9, 7, 7, 8, 1, 6, 4, 5, 6,\n",
       "       7, 6, 1, 1, 6, 3, 4, 0, 0, 4, 0, 8, 0, 3, 0, 1, 0, 9, 5, 8, 7, 0,\n",
       "       5, 3, 2, 0, 7, 6, 7, 1])"
      ]
     },
     "execution_count": 48,
     "metadata": {},
     "output_type": "execute_result"
    }
   ],
   "source": [
    "y_hat"
   ]
  },
  {
   "cell_type": "code",
   "execution_count": 54,
   "metadata": {},
   "outputs": [
    {
     "data": {
      "text/plain": [
       "array([[42,  0,  0,  0,  0,  0,  0,  0,  0,  0],\n",
       "       [ 0, 47,  0,  0,  0,  0,  0,  0,  0,  0],\n",
       "       [ 0,  0, 39,  0,  0,  0,  0,  0,  0,  0],\n",
       "       [ 0,  0,  0, 24,  0,  0,  0,  0,  0,  1],\n",
       "       [ 0,  0,  0,  0, 34,  0,  0,  0,  0,  0],\n",
       "       [ 0,  0,  0,  0,  0, 36,  0,  0,  0,  0],\n",
       "       [ 0,  0,  0,  0,  0,  0, 37,  0,  0,  0],\n",
       "       [ 0,  0,  0,  0,  0,  0,  0, 35,  0,  0],\n",
       "       [ 0,  2,  2,  0,  0,  0,  0,  0, 27,  0],\n",
       "       [ 0,  0,  0,  0,  0,  0,  0,  1,  1, 32]])"
      ]
     },
     "execution_count": 54,
     "metadata": {},
     "output_type": "execute_result"
    }
   ],
   "source": [
    "confusion_matrix(test_y.reshape(-1), y_hat)"
   ]
  },
  {
   "cell_type": "code",
   "execution_count": 11,
   "metadata": {},
   "outputs": [
    {
     "data": {
      "text/plain": [
       "(array([1.        , 0.93617021, 0.975     , 0.96      , 0.97142857,\n",
       "        1.        , 1.        , 1.        , 0.93548387, 0.97058824]),\n",
       " array([1.        , 0.93617021, 1.        , 0.96      , 1.        ,\n",
       "        1.        , 0.97297297, 0.97142857, 0.93548387, 0.97058824]),\n",
       " array([1.        , 0.93617021, 0.98734177, 0.96      , 0.98550725,\n",
       "        1.        , 0.98630137, 0.98550725, 0.93548387, 0.97058824]),\n",
       " array([42, 47, 39, 25, 34, 36, 37, 35, 31, 34]))"
      ]
     },
     "execution_count": 11,
     "metadata": {},
     "output_type": "execute_result"
    }
   ],
   "source": [
    "precision_recall_fscore_support(test_y.reshape(-1), y_hat)"
   ]
  },
  {
   "cell_type": "code",
   "execution_count": 63,
   "metadata": {},
   "outputs": [
    {
     "data": {
      "text/plain": [
       "0.9777777777777777"
      ]
     },
     "execution_count": 63,
     "metadata": {},
     "output_type": "execute_result"
    }
   ],
   "source": [
    "accuracy_score(test_y.reshape(-1), y_hat)"
   ]
  },
  {
   "cell_type": "markdown",
   "metadata": {},
   "source": [
    "Теперь попробуем сверточные и рекуррентные сети из Keras"
   ]
  },
  {
   "cell_type": "code",
   "execution_count": 13,
   "metadata": {},
   "outputs": [],
   "source": [
    "from tensorflow import keras\n",
    "from tensorflow.keras import layers\n",
    "from tensorflow.keras import Sequential"
   ]
  },
  {
   "cell_type": "markdown",
   "metadata": {},
   "source": [
    "Хорошо, сперва полносвязанная сеть."
   ]
  },
  {
   "cell_type": "code",
   "execution_count": 90,
   "metadata": {},
   "outputs": [],
   "source": [
    "model = keras.Sequential()\n",
    "model.add(layers.Dense(128, activation=\"tanh\", kernel_regularizer=keras.regularizers.l2(0.001)))\n",
    "model.add(layers.Dense(128, activation=\"tanh\", kernel_regularizer=keras.regularizers.l2(0.001)))\n",
    "model.add(layers.Dense(10, activation=\"softmax\"))\n",
    "model.compile(keras.optimizers.SGD(learning_rate=0.001), \n",
    "          keras.losses.MeanSquaredError(reduction='sum'),\n",
    "          metrics=['accuracy']\n",
    "         )\n"
   ]
  },
  {
   "cell_type": "code",
   "execution_count": 91,
   "metadata": {},
   "outputs": [],
   "source": [
    "train_y2 = []\n",
    "for y in train_y:\n",
    "    y2 = np.zeros(10)\n",
    "    y2[y] = 1\n",
    "    train_y2.append(y2)\n",
    "    \n",
    "test_y2 = []\n",
    "for y in test_y:\n",
    "    y2 = np.zeros(10)\n",
    "    y2[y] = 1\n",
    "    test_y2.append(y2)\n",
    "    \n",
    "train_y2 = np.array(train_y2)\n",
    "test_y2 = np.array(test_y2)"
   ]
  },
  {
   "cell_type": "code",
   "execution_count": 92,
   "metadata": {},
   "outputs": [
    {
     "data": {
      "text/plain": [
       "array([[0., 0., 0., ..., 0., 0., 0.],\n",
       "       [0., 0., 0., ..., 0., 0., 0.],\n",
       "       [0., 0., 0., ..., 0., 0., 0.],\n",
       "       ...,\n",
       "       [0., 0., 0., ..., 0., 1., 0.],\n",
       "       [0., 0., 0., ..., 0., 1., 0.],\n",
       "       [0., 0., 0., ..., 0., 0., 0.]])"
      ]
     },
     "execution_count": 92,
     "metadata": {},
     "output_type": "execute_result"
    }
   ],
   "source": [
    "train_y2"
   ]
  },
  {
   "cell_type": "code",
   "execution_count": 93,
   "metadata": {
    "scrolled": true
   },
   "outputs": [
    {
     "name": "stdout",
     "output_type": "stream",
     "text": [
      "Epoch 1/200\n",
      "45/45 [==============================] - 0s 2ms/step - loss: 3.1453 - accuracy: 0.1719\n",
      "Epoch 2/200\n",
      "45/45 [==============================] - 0s 2ms/step - loss: 2.9835 - accuracy: 0.2700\n",
      "Epoch 3/200\n",
      "45/45 [==============================] - 0s 2ms/step - loss: 2.8173 - accuracy: 0.3591\n",
      "Epoch 4/200\n",
      "45/45 [==============================] - 0s 2ms/step - loss: 2.6519 - accuracy: 0.4426\n",
      "Epoch 5/200\n",
      "45/45 [==============================] - 0s 2ms/step - loss: 2.4896 - accuracy: 0.5150\n",
      "Epoch 6/200\n",
      "45/45 [==============================] - 0s 3ms/step - loss: 2.3386 - accuracy: 0.5637\n",
      "Epoch 7/200\n",
      "45/45 [==============================] - 0s 2ms/step - loss: 2.2000 - accuracy: 0.5985\n",
      "Epoch 8/200\n",
      "45/45 [==============================] - 0s 2ms/step - loss: 2.0733 - accuracy: 0.6347\n",
      "Epoch 9/200\n",
      "45/45 [==============================] - 0s 2ms/step - loss: 1.9571 - accuracy: 0.6695\n",
      "Epoch 10/200\n",
      "45/45 [==============================] - 0s 2ms/step - loss: 1.8482 - accuracy: 0.7070\n",
      "Epoch 11/200\n",
      "45/45 [==============================] - 0s 2ms/step - loss: 1.7487 - accuracy: 0.7460\n",
      "Epoch 12/200\n",
      "45/45 [==============================] - 0s 2ms/step - loss: 1.6580 - accuracy: 0.7662\n",
      "Epoch 13/200\n",
      "45/45 [==============================] - 0s 2ms/step - loss: 1.5773 - accuracy: 0.7864\n",
      "Epoch 14/200\n",
      "45/45 [==============================] - 0s 2ms/step - loss: 1.5035 - accuracy: 0.7933\n",
      "Epoch 15/200\n",
      "45/45 [==============================] - 0s 2ms/step - loss: 1.4389 - accuracy: 0.8010\n",
      "Epoch 16/200\n",
      "45/45 [==============================] - 0s 2ms/step - loss: 1.3806 - accuracy: 0.8065\n",
      "Epoch 17/200\n",
      "45/45 [==============================] - 0s 2ms/step - loss: 1.3293 - accuracy: 0.8100\n",
      "Epoch 18/200\n",
      "45/45 [==============================] - 0s 2ms/step - loss: 1.2846 - accuracy: 0.8170\n",
      "Epoch 19/200\n",
      "45/45 [==============================] - 0s 2ms/step - loss: 1.2441 - accuracy: 0.8219\n",
      "Epoch 20/200\n",
      "45/45 [==============================] - 0s 2ms/step - loss: 1.2091 - accuracy: 0.8267\n",
      "Epoch 21/200\n",
      "45/45 [==============================] - 0s 2ms/step - loss: 1.1774 - accuracy: 0.8288\n",
      "Epoch 22/200\n",
      "45/45 [==============================] - 0s 2ms/step - loss: 1.1484 - accuracy: 0.8330\n",
      "Epoch 23/200\n",
      "45/45 [==============================] - 0s 2ms/step - loss: 1.1236 - accuracy: 0.8379\n",
      "Epoch 24/200\n",
      "45/45 [==============================] - 0s 2ms/step - loss: 1.1003 - accuracy: 0.8413\n",
      "Epoch 25/200\n",
      "45/45 [==============================] - 0s 2ms/step - loss: 1.0787 - accuracy: 0.8427\n",
      "Epoch 26/200\n",
      "45/45 [==============================] - 0s 2ms/step - loss: 1.0589 - accuracy: 0.8441\n",
      "Epoch 27/200\n",
      "45/45 [==============================] - 0s 2ms/step - loss: 1.0407 - accuracy: 0.8448\n",
      "Epoch 28/200\n",
      "45/45 [==============================] - 0s 2ms/step - loss: 1.0238 - accuracy: 0.8476\n",
      "Epoch 29/200\n",
      "45/45 [==============================] - 0s 2ms/step - loss: 1.0079 - accuracy: 0.8504\n",
      "Epoch 30/200\n",
      "45/45 [==============================] - 0s 3ms/step - loss: 0.9934 - accuracy: 0.8511\n",
      "Epoch 31/200\n",
      "45/45 [==============================] - 0s 3ms/step - loss: 0.9795 - accuracy: 0.8518\n",
      "Epoch 32/200\n",
      "45/45 [==============================] - 0s 3ms/step - loss: 0.9655 - accuracy: 0.8532\n",
      "Epoch 33/200\n",
      "45/45 [==============================] - 0s 3ms/step - loss: 0.9523 - accuracy: 0.8546\n",
      "Epoch 34/200\n",
      "45/45 [==============================] - 0s 2ms/step - loss: 0.9413 - accuracy: 0.8566\n",
      "Epoch 35/200\n",
      "45/45 [==============================] - 0s 3ms/step - loss: 0.9293 - accuracy: 0.8594\n",
      "Epoch 36/200\n",
      "45/45 [==============================] - 0s 3ms/step - loss: 0.9177 - accuracy: 0.8608\n",
      "Epoch 37/200\n",
      "45/45 [==============================] - 0s 3ms/step - loss: 0.9064 - accuracy: 0.8601\n",
      "Epoch 38/200\n",
      "45/45 [==============================] - 0s 3ms/step - loss: 0.8951 - accuracy: 0.8615\n",
      "Epoch 39/200\n",
      "45/45 [==============================] - 0s 2ms/step - loss: 0.8849 - accuracy: 0.8636\n",
      "Epoch 40/200\n",
      "45/45 [==============================] - 0s 2ms/step - loss: 0.8732 - accuracy: 0.8678\n",
      "Epoch 41/200\n",
      "45/45 [==============================] - 0s 2ms/step - loss: 0.8603 - accuracy: 0.8692\n",
      "Epoch 42/200\n",
      "45/45 [==============================] - 0s 2ms/step - loss: 0.8485 - accuracy: 0.8747\n",
      "Epoch 43/200\n",
      "45/45 [==============================] - 0s 2ms/step - loss: 0.8347 - accuracy: 0.8775\n",
      "Epoch 44/200\n",
      "45/45 [==============================] - 0s 2ms/step - loss: 0.8174 - accuracy: 0.8845\n",
      "Epoch 45/200\n",
      "45/45 [==============================] - 0s 2ms/step - loss: 0.7988 - accuracy: 0.8900\n",
      "Epoch 46/200\n",
      "45/45 [==============================] - 0s 2ms/step - loss: 0.7780 - accuracy: 0.9040\n",
      "Epoch 47/200\n",
      "45/45 [==============================] - 0s 3ms/step - loss: 0.7563 - accuracy: 0.9151\n",
      "Epoch 48/200\n",
      "45/45 [==============================] - 0s 2ms/step - loss: 0.7347 - accuracy: 0.9228\n",
      "Epoch 49/200\n",
      "45/45 [==============================] - 0s 2ms/step - loss: 0.7161 - accuracy: 0.9318\n",
      "Epoch 50/200\n",
      "45/45 [==============================] - 0s 2ms/step - loss: 0.6974 - accuracy: 0.9325\n",
      "Epoch 51/200\n",
      "45/45 [==============================] - 0s 2ms/step - loss: 0.6797 - accuracy: 0.9408\n",
      "Epoch 52/200\n",
      "45/45 [==============================] - 0s 2ms/step - loss: 0.6636 - accuracy: 0.9436\n",
      "Epoch 53/200\n",
      "45/45 [==============================] - 0s 3ms/step - loss: 0.6470 - accuracy: 0.9471\n",
      "Epoch 54/200\n",
      "45/45 [==============================] - 0s 2ms/step - loss: 0.6332 - accuracy: 0.9499\n",
      "Epoch 55/200\n",
      "45/45 [==============================] - 0s 3ms/step - loss: 0.6190 - accuracy: 0.9527\n",
      "Epoch 56/200\n",
      "45/45 [==============================] - 0s 2ms/step - loss: 0.6063 - accuracy: 0.9520\n",
      "Epoch 57/200\n",
      "45/45 [==============================] - 0s 2ms/step - loss: 0.5927 - accuracy: 0.9541\n",
      "Epoch 58/200\n",
      "45/45 [==============================] - 0s 3ms/step - loss: 0.5820 - accuracy: 0.9569\n",
      "Epoch 59/200\n",
      "45/45 [==============================] - 0s 2ms/step - loss: 0.5705 - accuracy: 0.9576\n",
      "Epoch 60/200\n",
      "45/45 [==============================] - 0s 2ms/step - loss: 0.5608 - accuracy: 0.9596\n",
      "Epoch 61/200\n",
      "45/45 [==============================] - 0s 2ms/step - loss: 0.5518 - accuracy: 0.9631\n",
      "Epoch 62/200\n",
      "45/45 [==============================] - 0s 2ms/step - loss: 0.5423 - accuracy: 0.9638\n",
      "Epoch 63/200\n",
      "45/45 [==============================] - 0s 2ms/step - loss: 0.5337 - accuracy: 0.9638\n",
      "Epoch 64/200\n",
      "45/45 [==============================] - 0s 2ms/step - loss: 0.5255 - accuracy: 0.9680\n",
      "Epoch 65/200\n",
      "45/45 [==============================] - 0s 2ms/step - loss: 0.5179 - accuracy: 0.9659\n",
      "Epoch 66/200\n",
      "45/45 [==============================] - 0s 2ms/step - loss: 0.5099 - accuracy: 0.9694\n",
      "Epoch 67/200\n",
      "45/45 [==============================] - 0s 2ms/step - loss: 0.5033 - accuracy: 0.9694\n",
      "Epoch 68/200\n",
      "45/45 [==============================] - 0s 2ms/step - loss: 0.4968 - accuracy: 0.9687\n",
      "Epoch 69/200\n",
      "45/45 [==============================] - 0s 2ms/step - loss: 0.4899 - accuracy: 0.9694\n",
      "Epoch 70/200\n",
      "45/45 [==============================] - 0s 2ms/step - loss: 0.4844 - accuracy: 0.9708\n",
      "Epoch 71/200\n",
      "45/45 [==============================] - 0s 2ms/step - loss: 0.4779 - accuracy: 0.9701\n",
      "Epoch 72/200\n",
      "45/45 [==============================] - 0s 2ms/step - loss: 0.4725 - accuracy: 0.9722\n",
      "Epoch 73/200\n",
      "45/45 [==============================] - 0s 2ms/step - loss: 0.4673 - accuracy: 0.9729\n",
      "Epoch 74/200\n",
      "45/45 [==============================] - 0s 2ms/step - loss: 0.4620 - accuracy: 0.9756\n",
      "Epoch 75/200\n",
      "45/45 [==============================] - 0s 2ms/step - loss: 0.4566 - accuracy: 0.9756\n",
      "Epoch 76/200\n",
      "45/45 [==============================] - 0s 2ms/step - loss: 0.4520 - accuracy: 0.9763\n",
      "Epoch 77/200\n",
      "45/45 [==============================] - 0s 2ms/step - loss: 0.4472 - accuracy: 0.9763\n",
      "Epoch 78/200\n",
      "45/45 [==============================] - 0s 2ms/step - loss: 0.4419 - accuracy: 0.9798\n",
      "Epoch 79/200\n",
      "45/45 [==============================] - 0s 2ms/step - loss: 0.4384 - accuracy: 0.9791\n",
      "Epoch 80/200\n",
      "45/45 [==============================] - 0s 2ms/step - loss: 0.4344 - accuracy: 0.9798\n",
      "Epoch 81/200\n",
      "45/45 [==============================] - 0s 2ms/step - loss: 0.4299 - accuracy: 0.9798\n",
      "Epoch 82/200\n",
      "45/45 [==============================] - 0s 2ms/step - loss: 0.4262 - accuracy: 0.9805\n",
      "Epoch 83/200\n"
     ]
    },
    {
     "name": "stdout",
     "output_type": "stream",
     "text": [
      "45/45 [==============================] - 0s 2ms/step - loss: 0.4220 - accuracy: 0.9805\n",
      "Epoch 84/200\n",
      "45/45 [==============================] - 0s 2ms/step - loss: 0.4181 - accuracy: 0.9805\n",
      "Epoch 85/200\n",
      "45/45 [==============================] - 0s 2ms/step - loss: 0.4147 - accuracy: 0.9805\n",
      "Epoch 86/200\n",
      "45/45 [==============================] - 0s 2ms/step - loss: 0.4112 - accuracy: 0.9805\n",
      "Epoch 87/200\n",
      "45/45 [==============================] - 0s 2ms/step - loss: 0.4079 - accuracy: 0.9805\n",
      "Epoch 88/200\n",
      "45/45 [==============================] - 0s 2ms/step - loss: 0.4045 - accuracy: 0.9805\n",
      "Epoch 89/200\n",
      "45/45 [==============================] - 0s 2ms/step - loss: 0.4013 - accuracy: 0.9819\n",
      "Epoch 90/200\n",
      "45/45 [==============================] - 0s 2ms/step - loss: 0.3987 - accuracy: 0.9819\n",
      "Epoch 91/200\n",
      "45/45 [==============================] - 0s 2ms/step - loss: 0.3955 - accuracy: 0.9833\n",
      "Epoch 92/200\n",
      "45/45 [==============================] - 0s 2ms/step - loss: 0.3925 - accuracy: 0.9847\n",
      "Epoch 93/200\n",
      "45/45 [==============================] - 0s 2ms/step - loss: 0.3895 - accuracy: 0.9826\n",
      "Epoch 94/200\n",
      "45/45 [==============================] - 0s 2ms/step - loss: 0.3869 - accuracy: 0.9847\n",
      "Epoch 95/200\n",
      "45/45 [==============================] - 0s 2ms/step - loss: 0.3840 - accuracy: 0.9861\n",
      "Epoch 96/200\n",
      "45/45 [==============================] - 0s 2ms/step - loss: 0.3816 - accuracy: 0.9840\n",
      "Epoch 97/200\n",
      "45/45 [==============================] - 0s 2ms/step - loss: 0.3787 - accuracy: 0.9854\n",
      "Epoch 98/200\n",
      "45/45 [==============================] - 0s 2ms/step - loss: 0.3769 - accuracy: 0.9847\n",
      "Epoch 99/200\n",
      "45/45 [==============================] - 0s 2ms/step - loss: 0.3742 - accuracy: 0.9854\n",
      "Epoch 100/200\n",
      "45/45 [==============================] - 0s 2ms/step - loss: 0.3717 - accuracy: 0.9861\n",
      "Epoch 101/200\n",
      "45/45 [==============================] - 0s 2ms/step - loss: 0.3692 - accuracy: 0.9861\n",
      "Epoch 102/200\n",
      "45/45 [==============================] - 0s 2ms/step - loss: 0.3673 - accuracy: 0.9861\n",
      "Epoch 103/200\n",
      "45/45 [==============================] - 0s 3ms/step - loss: 0.3652 - accuracy: 0.9861\n",
      "Epoch 104/200\n",
      "45/45 [==============================] - 0s 2ms/step - loss: 0.3630 - accuracy: 0.9861\n",
      "Epoch 105/200\n",
      "45/45 [==============================] - 0s 2ms/step - loss: 0.3609 - accuracy: 0.9868\n",
      "Epoch 106/200\n",
      "45/45 [==============================] - 0s 2ms/step - loss: 0.3588 - accuracy: 0.9861\n",
      "Epoch 107/200\n",
      "45/45 [==============================] - 0s 2ms/step - loss: 0.3569 - accuracy: 0.9861\n",
      "Epoch 108/200\n",
      "45/45 [==============================] - 0s 2ms/step - loss: 0.3549 - accuracy: 0.9861\n",
      "Epoch 109/200\n",
      "45/45 [==============================] - 0s 2ms/step - loss: 0.3533 - accuracy: 0.9861\n",
      "Epoch 110/200\n",
      "45/45 [==============================] - 0s 2ms/step - loss: 0.3512 - accuracy: 0.9861\n",
      "Epoch 111/200\n",
      "45/45 [==============================] - 0s 2ms/step - loss: 0.3496 - accuracy: 0.9868\n",
      "Epoch 112/200\n",
      "45/45 [==============================] - 0s 2ms/step - loss: 0.3479 - accuracy: 0.9861\n",
      "Epoch 113/200\n",
      "45/45 [==============================] - 0s 3ms/step - loss: 0.3459 - accuracy: 0.9875\n",
      "Epoch 114/200\n",
      "45/45 [==============================] - 0s 2ms/step - loss: 0.3446 - accuracy: 0.9875\n",
      "Epoch 115/200\n",
      "45/45 [==============================] - 0s 2ms/step - loss: 0.3430 - accuracy: 0.9875\n",
      "Epoch 116/200\n",
      "45/45 [==============================] - 0s 2ms/step - loss: 0.3414 - accuracy: 0.9875\n",
      "Epoch 117/200\n",
      "45/45 [==============================] - 0s 2ms/step - loss: 0.3397 - accuracy: 0.9875\n",
      "Epoch 118/200\n",
      "45/45 [==============================] - 0s 2ms/step - loss: 0.3382 - accuracy: 0.9875\n",
      "Epoch 119/200\n",
      "45/45 [==============================] - 0s 2ms/step - loss: 0.3369 - accuracy: 0.9875\n",
      "Epoch 120/200\n",
      "45/45 [==============================] - 0s 2ms/step - loss: 0.3351 - accuracy: 0.9875\n",
      "Epoch 121/200\n",
      "45/45 [==============================] - 0s 2ms/step - loss: 0.3338 - accuracy: 0.9882\n",
      "Epoch 122/200\n",
      "45/45 [==============================] - 0s 2ms/step - loss: 0.3326 - accuracy: 0.9882\n",
      "Epoch 123/200\n",
      "45/45 [==============================] - 0s 2ms/step - loss: 0.3309 - accuracy: 0.9889\n",
      "Epoch 124/200\n",
      "45/45 [==============================] - 0s 2ms/step - loss: 0.3299 - accuracy: 0.9882\n",
      "Epoch 125/200\n",
      "45/45 [==============================] - 0s 2ms/step - loss: 0.3283 - accuracy: 0.9882\n",
      "Epoch 126/200\n",
      "45/45 [==============================] - 0s 2ms/step - loss: 0.3272 - accuracy: 0.9896\n",
      "Epoch 127/200\n",
      "45/45 [==============================] - 0s 2ms/step - loss: 0.3256 - accuracy: 0.9889\n",
      "Epoch 128/200\n",
      "45/45 [==============================] - 0s 2ms/step - loss: 0.3246 - accuracy: 0.9896\n",
      "Epoch 129/200\n",
      "45/45 [==============================] - 0s 2ms/step - loss: 0.3234 - accuracy: 0.9903\n",
      "Epoch 130/200\n",
      "45/45 [==============================] - 0s 2ms/step - loss: 0.3222 - accuracy: 0.9903\n",
      "Epoch 131/200\n",
      "45/45 [==============================] - 0s 2ms/step - loss: 0.3210 - accuracy: 0.9903\n",
      "Epoch 132/200\n",
      "45/45 [==============================] - 0s 2ms/step - loss: 0.3199 - accuracy: 0.9903\n",
      "Epoch 133/200\n",
      "45/45 [==============================] - 0s 2ms/step - loss: 0.3189 - accuracy: 0.9910\n",
      "Epoch 134/200\n",
      "45/45 [==============================] - 0s 2ms/step - loss: 0.3176 - accuracy: 0.9910\n",
      "Epoch 135/200\n",
      "45/45 [==============================] - 0s 2ms/step - loss: 0.3167 - accuracy: 0.9910\n",
      "Epoch 136/200\n",
      "45/45 [==============================] - 0s 2ms/step - loss: 0.3157 - accuracy: 0.9910\n",
      "Epoch 137/200\n",
      "45/45 [==============================] - 0s 2ms/step - loss: 0.3144 - accuracy: 0.9910\n",
      "Epoch 138/200\n",
      "45/45 [==============================] - 0s 2ms/step - loss: 0.3133 - accuracy: 0.9910\n",
      "Epoch 139/200\n",
      "45/45 [==============================] - 0s 3ms/step - loss: 0.3124 - accuracy: 0.9916\n",
      "Epoch 140/200\n",
      "45/45 [==============================] - 0s 2ms/step - loss: 0.3114 - accuracy: 0.9910\n",
      "Epoch 141/200\n",
      "45/45 [==============================] - 0s 2ms/step - loss: 0.3102 - accuracy: 0.9916\n",
      "Epoch 142/200\n",
      "45/45 [==============================] - 0s 2ms/step - loss: 0.3095 - accuracy: 0.9916\n",
      "Epoch 143/200\n",
      "45/45 [==============================] - 0s 3ms/step - loss: 0.3085 - accuracy: 0.9916\n",
      "Epoch 144/200\n",
      "45/45 [==============================] - 0s 3ms/step - loss: 0.3075 - accuracy: 0.9916\n",
      "Epoch 145/200\n",
      "45/45 [==============================] - 0s 2ms/step - loss: 0.3067 - accuracy: 0.9916\n",
      "Epoch 146/200\n",
      "45/45 [==============================] - 0s 2ms/step - loss: 0.3058 - accuracy: 0.9923\n",
      "Epoch 147/200\n",
      "45/45 [==============================] - 0s 2ms/step - loss: 0.3048 - accuracy: 0.9923\n",
      "Epoch 148/200\n",
      "45/45 [==============================] - 0s 2ms/step - loss: 0.3040 - accuracy: 0.9930\n",
      "Epoch 149/200\n",
      "45/45 [==============================] - 0s 2ms/step - loss: 0.3031 - accuracy: 0.9930\n",
      "Epoch 150/200\n",
      "45/45 [==============================] - 0s 2ms/step - loss: 0.3021 - accuracy: 0.9930\n",
      "Epoch 151/200\n",
      "45/45 [==============================] - 0s 2ms/step - loss: 0.3014 - accuracy: 0.9930\n",
      "Epoch 152/200\n",
      "45/45 [==============================] - 0s 2ms/step - loss: 0.3005 - accuracy: 0.9930\n",
      "Epoch 153/200\n",
      "45/45 [==============================] - 0s 2ms/step - loss: 0.2997 - accuracy: 0.9930\n",
      "Epoch 154/200\n",
      "45/45 [==============================] - 0s 2ms/step - loss: 0.2990 - accuracy: 0.9930\n",
      "Epoch 155/200\n",
      "45/45 [==============================] - 0s 2ms/step - loss: 0.2982 - accuracy: 0.9930\n",
      "Epoch 156/200\n",
      "45/45 [==============================] - 0s 2ms/step - loss: 0.2973 - accuracy: 0.9930\n",
      "Epoch 157/200\n",
      "45/45 [==============================] - 0s 2ms/step - loss: 0.2961 - accuracy: 0.9930\n",
      "Epoch 158/200\n",
      "45/45 [==============================] - 0s 2ms/step - loss: 0.2958 - accuracy: 0.9930\n",
      "Epoch 159/200\n",
      "45/45 [==============================] - 0s 2ms/step - loss: 0.2952 - accuracy: 0.9930\n",
      "Epoch 160/200\n",
      "45/45 [==============================] - 0s 2ms/step - loss: 0.2944 - accuracy: 0.9930\n",
      "Epoch 161/200\n",
      "45/45 [==============================] - 0s 2ms/step - loss: 0.2936 - accuracy: 0.9930\n",
      "Epoch 162/200\n",
      "45/45 [==============================] - 0s 2ms/step - loss: 0.2927 - accuracy: 0.9930\n",
      "Epoch 163/200\n",
      "45/45 [==============================] - 0s 2ms/step - loss: 0.2922 - accuracy: 0.9930\n",
      "Epoch 164/200\n",
      "45/45 [==============================] - 0s 2ms/step - loss: 0.2916 - accuracy: 0.9930\n",
      "Epoch 165/200\n",
      "45/45 [==============================] - 0s 2ms/step - loss: 0.2909 - accuracy: 0.9930\n",
      "Epoch 166/200\n",
      "45/45 [==============================] - 0s 2ms/step - loss: 0.2903 - accuracy: 0.9944\n",
      "Epoch 167/200\n",
      "45/45 [==============================] - 0s 2ms/step - loss: 0.2895 - accuracy: 0.9937\n",
      "Epoch 168/200\n",
      "45/45 [==============================] - 0s 2ms/step - loss: 0.2887 - accuracy: 0.9944\n",
      "Epoch 169/200\n",
      "45/45 [==============================] - 0s 2ms/step - loss: 0.2882 - accuracy: 0.9944\n",
      "Epoch 170/200\n",
      "45/45 [==============================] - 0s 2ms/step - loss: 0.2877 - accuracy: 0.9944\n",
      "Epoch 171/200\n",
      "45/45 [==============================] - 0s 2ms/step - loss: 0.2870 - accuracy: 0.9937\n",
      "Epoch 172/200\n",
      "45/45 [==============================] - 0s 2ms/step - loss: 0.2864 - accuracy: 0.9944\n",
      "Epoch 173/200\n",
      "45/45 [==============================] - 0s 2ms/step - loss: 0.2858 - accuracy: 0.9944\n",
      "Epoch 174/200\n",
      "45/45 [==============================] - 0s 2ms/step - loss: 0.2852 - accuracy: 0.9944\n",
      "Epoch 175/200\n",
      "45/45 [==============================] - 0s 2ms/step - loss: 0.2843 - accuracy: 0.9944\n",
      "Epoch 176/200\n",
      "45/45 [==============================] - 0s 2ms/step - loss: 0.2839 - accuracy: 0.9944\n",
      "Epoch 177/200\n",
      "45/45 [==============================] - 0s 2ms/step - loss: 0.2834 - accuracy: 0.9944\n",
      "Epoch 178/200\n",
      "45/45 [==============================] - 0s 2ms/step - loss: 0.2827 - accuracy: 0.9944\n",
      "Epoch 179/200\n",
      "45/45 [==============================] - 0s 2ms/step - loss: 0.2822 - accuracy: 0.9944\n",
      "Epoch 180/200\n",
      "45/45 [==============================] - 0s 2ms/step - loss: 0.2817 - accuracy: 0.9944\n",
      "Epoch 181/200\n",
      "45/45 [==============================] - 0s 1ms/step - loss: 0.2809 - accuracy: 0.9944\n",
      "Epoch 182/200\n",
      "45/45 [==============================] - 0s 2ms/step - loss: 0.2806 - accuracy: 0.9944\n",
      "Epoch 183/200\n",
      "45/45 [==============================] - 0s 1ms/step - loss: 0.2801 - accuracy: 0.9944\n",
      "Epoch 184/200\n",
      "45/45 [==============================] - 0s 1ms/step - loss: 0.2795 - accuracy: 0.9951\n",
      "Epoch 185/200\n",
      "45/45 [==============================] - 0s 1ms/step - loss: 0.2790 - accuracy: 0.9951\n",
      "Epoch 186/200\n",
      "45/45 [==============================] - 0s 1ms/step - loss: 0.2785 - accuracy: 0.9951\n",
      "Epoch 187/200\n",
      "45/45 [==============================] - 0s 1ms/step - loss: 0.2777 - accuracy: 0.9951\n",
      "Epoch 188/200\n",
      "45/45 [==============================] - 0s 1ms/step - loss: 0.2776 - accuracy: 0.9951\n",
      "Epoch 189/200\n",
      "45/45 [==============================] - 0s 1ms/step - loss: 0.2769 - accuracy: 0.9951\n",
      "Epoch 190/200\n",
      "45/45 [==============================] - 0s 1ms/step - loss: 0.2765 - accuracy: 0.9951\n",
      "Epoch 191/200\n",
      "45/45 [==============================] - 0s 1ms/step - loss: 0.2759 - accuracy: 0.9951\n",
      "Epoch 192/200\n",
      "45/45 [==============================] - 0s 1ms/step - loss: 0.2755 - accuracy: 0.9951\n",
      "Epoch 193/200\n",
      "45/45 [==============================] - 0s 2ms/step - loss: 0.2752 - accuracy: 0.9951\n",
      "Epoch 194/200\n",
      "45/45 [==============================] - 0s 1ms/step - loss: 0.2746 - accuracy: 0.9951\n",
      "Epoch 195/200\n",
      "45/45 [==============================] - 0s 2ms/step - loss: 0.2742 - accuracy: 0.9951\n",
      "Epoch 196/200\n",
      "45/45 [==============================] - 0s 2ms/step - loss: 0.2737 - accuracy: 0.9951\n",
      "Epoch 197/200\n",
      "45/45 [==============================] - 0s 1ms/step - loss: 0.2733 - accuracy: 0.9951\n",
      "Epoch 198/200\n",
      "45/45 [==============================] - 0s 2ms/step - loss: 0.2728 - accuracy: 0.9951\n",
      "Epoch 199/200\n",
      "45/45 [==============================] - 0s 2ms/step - loss: 0.2723 - accuracy: 0.9951\n",
      "Epoch 200/200\n",
      "45/45 [==============================] - 0s 2ms/step - loss: 0.2719 - accuracy: 0.9951\n"
     ]
    },
    {
     "data": {
      "text/plain": [
       "<tensorflow.python.keras.callbacks.History at 0x7f68485ba588>"
      ]
     },
     "execution_count": 93,
     "metadata": {},
     "output_type": "execute_result"
    }
   ],
   "source": [
    "model.fit(train_x, train_y2, epochs=200)"
   ]
  },
  {
   "cell_type": "code",
   "execution_count": 94,
   "metadata": {},
   "outputs": [],
   "source": [
    "y_hat = model.predict(test_x)"
   ]
  },
  {
   "cell_type": "code",
   "execution_count": 95,
   "metadata": {},
   "outputs": [
    {
     "data": {
      "text/plain": [
       "array([[2.0555593e-03, 5.0919270e-03, 1.0853286e-02, ..., 6.1834708e-04,\n",
       "        7.3247286e-03, 4.3711427e-04],\n",
       "       [5.6339538e-04, 8.8296276e-01, 4.3616828e-02, ..., 1.4114926e-04,\n",
       "        2.5150940e-02, 3.4447883e-03],\n",
       "       [6.2483677e-04, 4.1005493e-04, 6.4473849e-04, ..., 9.8478204e-01,\n",
       "        5.1054796e-03, 5.7451660e-04],\n",
       "       ...,\n",
       "       [1.1959712e-02, 4.2389115e-04, 9.8940276e-04, ..., 2.4778629e-04,\n",
       "        1.4394606e-02, 2.5717507e-04],\n",
       "       [8.9180208e-04, 4.7305766e-03, 2.1395087e-03, ..., 9.6825445e-01,\n",
       "        5.8698566e-03, 1.8421604e-03],\n",
       "       [1.3102501e-02, 6.4121473e-01, 2.4279786e-02, ..., 3.4163009e-02,\n",
       "        2.1646793e-01, 3.4930895e-03]], dtype=float32)"
      ]
     },
     "execution_count": 95,
     "metadata": {},
     "output_type": "execute_result"
    }
   ],
   "source": [
    "y_hat"
   ]
  },
  {
   "cell_type": "code",
   "execution_count": 96,
   "metadata": {},
   "outputs": [
    {
     "data": {
      "text/plain": [
       "array([[6, 1, 7, 9, 2, 6, 2, 2, 5, 0, 4, 5, 1, 5, 2, 4, 5, 5, 3, 7, 7, 2,\n",
       "        4, 5, 8, 2, 8, 1, 9, 5, 8, 0, 7, 4, 0, 5, 5, 7, 0, 1, 6, 2, 8, 8,\n",
       "        5, 8, 1, 4, 4, 7, 4, 1, 6, 3, 0, 5, 2, 5, 2, 6, 0, 6, 1, 7, 6, 4,\n",
       "        2, 5, 1, 3, 0, 7, 5, 4, 0, 6, 1, 3, 5, 2, 4, 6, 1, 8, 8, 2, 7, 9,\n",
       "        1, 2, 1, 8, 4, 4, 3, 0, 6, 3, 7, 2, 0, 6, 0, 2, 5, 7, 8, 7, 8, 8,\n",
       "        5, 9, 7, 1, 0, 9, 2, 2, 0, 1, 5, 8, 7, 7, 7, 4, 0, 4, 1, 5, 4, 1,\n",
       "        1, 3, 3, 9, 2, 8, 1, 2, 4, 7, 6, 2, 9, 3, 4, 2, 2, 9, 1, 5, 2, 0,\n",
       "        9, 9, 5, 8, 2, 7, 2, 0, 6, 1, 2, 6, 8, 6, 4, 9, 0, 4, 9, 0, 1, 9,\n",
       "        5, 7, 0, 0, 9, 1, 1, 0, 1, 0, 0, 6, 5, 9, 6, 2, 8, 5, 0, 9, 1, 9,\n",
       "        4, 5, 1, 2, 9, 6, 7, 6, 0, 9, 4, 6, 3, 1, 8, 4, 4, 0, 9, 5, 0, 9,\n",
       "        7, 7, 1, 9, 6, 5, 8, 3, 6, 2, 2, 9, 7, 1, 1, 2, 2, 4, 1, 3, 5, 7,\n",
       "        2, 4, 1, 3, 3, 5, 0, 6, 8, 9, 0, 6, 6, 2, 1, 8, 6, 6, 2, 1, 0, 6,\n",
       "        4, 3, 0, 3, 8, 1, 4, 7, 4, 7, 6, 2, 1, 1, 9, 1, 1, 7, 3, 9, 6, 8,\n",
       "        8, 6, 1, 0, 9, 5, 5, 8, 0, 2, 9, 4, 5, 7, 3, 1, 5, 9, 9, 4, 4, 3,\n",
       "        1, 9, 8, 8, 7, 0, 6, 3, 3, 8, 2, 7, 3, 9, 7, 7, 8, 1, 6, 4, 5, 6,\n",
       "        9, 6, 1, 1, 6, 3, 4, 0, 0, 4, 0, 8, 0, 3, 0, 1, 0, 9, 5, 8, 7, 0,\n",
       "        5, 3, 2, 0, 7, 6, 7, 1]])"
      ]
     },
     "execution_count": 96,
     "metadata": {},
     "output_type": "execute_result"
    }
   ],
   "source": [
    "test_y"
   ]
  },
  {
   "cell_type": "code",
   "execution_count": 97,
   "metadata": {},
   "outputs": [],
   "source": [
    "y_hat = [np.argmax(y) for y in y_hat]"
   ]
  },
  {
   "cell_type": "code",
   "execution_count": 98,
   "metadata": {},
   "outputs": [
    {
     "data": {
      "text/plain": [
       "[6,\n",
       " 1,\n",
       " 7,\n",
       " 9,\n",
       " 2,\n",
       " 6,\n",
       " 2,\n",
       " 2,\n",
       " 5,\n",
       " 0,\n",
       " 4,\n",
       " 5,\n",
       " 1,\n",
       " 5,\n",
       " 2,\n",
       " 4,\n",
       " 3,\n",
       " 5,\n",
       " 3,\n",
       " 7,\n",
       " 7,\n",
       " 2,\n",
       " 4,\n",
       " 5,\n",
       " 8,\n",
       " 2,\n",
       " 8,\n",
       " 1,\n",
       " 3,\n",
       " 5,\n",
       " 8,\n",
       " 0,\n",
       " 7,\n",
       " 4,\n",
       " 0,\n",
       " 5,\n",
       " 5,\n",
       " 7,\n",
       " 0,\n",
       " 1,\n",
       " 6,\n",
       " 2,\n",
       " 8,\n",
       " 8,\n",
       " 5,\n",
       " 8,\n",
       " 1,\n",
       " 4,\n",
       " 4,\n",
       " 7,\n",
       " 4,\n",
       " 1,\n",
       " 0,\n",
       " 3,\n",
       " 0,\n",
       " 5,\n",
       " 2,\n",
       " 5,\n",
       " 2,\n",
       " 1,\n",
       " 0,\n",
       " 6,\n",
       " 1,\n",
       " 7,\n",
       " 6,\n",
       " 4,\n",
       " 2,\n",
       " 5,\n",
       " 1,\n",
       " 3,\n",
       " 0,\n",
       " 7,\n",
       " 5,\n",
       " 4,\n",
       " 0,\n",
       " 6,\n",
       " 1,\n",
       " 3,\n",
       " 5,\n",
       " 2,\n",
       " 4,\n",
       " 6,\n",
       " 1,\n",
       " 8,\n",
       " 1,\n",
       " 2,\n",
       " 7,\n",
       " 9,\n",
       " 1,\n",
       " 2,\n",
       " 1,\n",
       " 8,\n",
       " 4,\n",
       " 4,\n",
       " 3,\n",
       " 0,\n",
       " 6,\n",
       " 3,\n",
       " 7,\n",
       " 2,\n",
       " 0,\n",
       " 6,\n",
       " 0,\n",
       " 2,\n",
       " 5,\n",
       " 7,\n",
       " 8,\n",
       " 7,\n",
       " 8,\n",
       " 8,\n",
       " 5,\n",
       " 9,\n",
       " 7,\n",
       " 1,\n",
       " 0,\n",
       " 8,\n",
       " 2,\n",
       " 2,\n",
       " 0,\n",
       " 1,\n",
       " 5,\n",
       " 8,\n",
       " 7,\n",
       " 7,\n",
       " 7,\n",
       " 4,\n",
       " 0,\n",
       " 4,\n",
       " 1,\n",
       " 5,\n",
       " 4,\n",
       " 1,\n",
       " 1,\n",
       " 3,\n",
       " 3,\n",
       " 9,\n",
       " 2,\n",
       " 8,\n",
       " 1,\n",
       " 2,\n",
       " 4,\n",
       " 7,\n",
       " 0,\n",
       " 2,\n",
       " 9,\n",
       " 3,\n",
       " 4,\n",
       " 2,\n",
       " 2,\n",
       " 9,\n",
       " 1,\n",
       " 5,\n",
       " 2,\n",
       " 0,\n",
       " 9,\n",
       " 9,\n",
       " 5,\n",
       " 8,\n",
       " 2,\n",
       " 7,\n",
       " 2,\n",
       " 0,\n",
       " 6,\n",
       " 1,\n",
       " 2,\n",
       " 6,\n",
       " 8,\n",
       " 6,\n",
       " 4,\n",
       " 9,\n",
       " 0,\n",
       " 4,\n",
       " 9,\n",
       " 0,\n",
       " 1,\n",
       " 9,\n",
       " 9,\n",
       " 7,\n",
       " 0,\n",
       " 0,\n",
       " 9,\n",
       " 1,\n",
       " 1,\n",
       " 0,\n",
       " 1,\n",
       " 0,\n",
       " 0,\n",
       " 6,\n",
       " 5,\n",
       " 8,\n",
       " 6,\n",
       " 2,\n",
       " 8,\n",
       " 5,\n",
       " 0,\n",
       " 9,\n",
       " 1,\n",
       " 9,\n",
       " 4,\n",
       " 5,\n",
       " 1,\n",
       " 2,\n",
       " 9,\n",
       " 6,\n",
       " 7,\n",
       " 6,\n",
       " 0,\n",
       " 9,\n",
       " 4,\n",
       " 6,\n",
       " 3,\n",
       " 1,\n",
       " 8,\n",
       " 4,\n",
       " 4,\n",
       " 0,\n",
       " 9,\n",
       " 5,\n",
       " 0,\n",
       " 9,\n",
       " 7,\n",
       " 7,\n",
       " 1,\n",
       " 9,\n",
       " 6,\n",
       " 5,\n",
       " 8,\n",
       " 3,\n",
       " 6,\n",
       " 2,\n",
       " 2,\n",
       " 9,\n",
       " 7,\n",
       " 1,\n",
       " 1,\n",
       " 2,\n",
       " 2,\n",
       " 4,\n",
       " 1,\n",
       " 3,\n",
       " 5,\n",
       " 7,\n",
       " 2,\n",
       " 4,\n",
       " 1,\n",
       " 3,\n",
       " 3,\n",
       " 5,\n",
       " 0,\n",
       " 6,\n",
       " 8,\n",
       " 9,\n",
       " 0,\n",
       " 6,\n",
       " 6,\n",
       " 2,\n",
       " 1,\n",
       " 8,\n",
       " 6,\n",
       " 6,\n",
       " 2,\n",
       " 1,\n",
       " 0,\n",
       " 6,\n",
       " 4,\n",
       " 3,\n",
       " 0,\n",
       " 3,\n",
       " 8,\n",
       " 1,\n",
       " 4,\n",
       " 7,\n",
       " 4,\n",
       " 7,\n",
       " 6,\n",
       " 2,\n",
       " 1,\n",
       " 1,\n",
       " 9,\n",
       " 1,\n",
       " 1,\n",
       " 7,\n",
       " 3,\n",
       " 9,\n",
       " 6,\n",
       " 1,\n",
       " 1,\n",
       " 6,\n",
       " 1,\n",
       " 0,\n",
       " 9,\n",
       " 5,\n",
       " 5,\n",
       " 8,\n",
       " 0,\n",
       " 2,\n",
       " 9,\n",
       " 4,\n",
       " 5,\n",
       " 7,\n",
       " 3,\n",
       " 1,\n",
       " 5,\n",
       " 9,\n",
       " 9,\n",
       " 4,\n",
       " 4,\n",
       " 3,\n",
       " 1,\n",
       " 9,\n",
       " 8,\n",
       " 5,\n",
       " 7,\n",
       " 0,\n",
       " 6,\n",
       " 3,\n",
       " 3,\n",
       " 8,\n",
       " 2,\n",
       " 7,\n",
       " 3,\n",
       " 9,\n",
       " 7,\n",
       " 7,\n",
       " 8,\n",
       " 1,\n",
       " 6,\n",
       " 4,\n",
       " 5,\n",
       " 6,\n",
       " 9,\n",
       " 6,\n",
       " 1,\n",
       " 1,\n",
       " 6,\n",
       " 3,\n",
       " 4,\n",
       " 0,\n",
       " 0,\n",
       " 4,\n",
       " 0,\n",
       " 8,\n",
       " 0,\n",
       " 3,\n",
       " 0,\n",
       " 1,\n",
       " 0,\n",
       " 9,\n",
       " 5,\n",
       " 8,\n",
       " 7,\n",
       " 0,\n",
       " 5,\n",
       " 3,\n",
       " 2,\n",
       " 0,\n",
       " 7,\n",
       " 6,\n",
       " 7,\n",
       " 1]"
      ]
     },
     "execution_count": 98,
     "metadata": {},
     "output_type": "execute_result"
    }
   ],
   "source": [
    "y_hat"
   ]
  },
  {
   "cell_type": "code",
   "execution_count": 99,
   "metadata": {},
   "outputs": [
    {
     "data": {
      "text/plain": [
       "array([[42,  0,  0,  0,  0,  0,  0,  0,  0,  0],\n",
       "       [ 0, 47,  0,  0,  0,  0,  0,  0,  0,  0],\n",
       "       [ 0,  0, 39,  0,  0,  0,  0,  0,  0,  0],\n",
       "       [ 0,  0,  0, 25,  0,  0,  0,  0,  0,  0],\n",
       "       [ 0,  0,  0,  0, 34,  0,  0,  0,  0,  0],\n",
       "       [ 0,  0,  0,  1,  0, 34,  0,  0,  0,  1],\n",
       "       [ 2,  1,  0,  0,  0,  0, 34,  0,  0,  0],\n",
       "       [ 0,  0,  0,  0,  0,  0,  0, 35,  0,  0],\n",
       "       [ 0,  3,  0,  0,  0,  1,  0,  0, 27,  0],\n",
       "       [ 0,  0,  0,  1,  0,  0,  0,  0,  2, 31]])"
      ]
     },
     "execution_count": 99,
     "metadata": {},
     "output_type": "execute_result"
    }
   ],
   "source": [
    "confusion_matrix(test_y.reshape(-1), y_hat)"
   ]
  },
  {
   "cell_type": "code",
   "execution_count": 100,
   "metadata": {},
   "outputs": [
    {
     "data": {
      "text/plain": [
       "(array([0.95454545, 0.92156863, 1.        , 0.92592593, 1.        ,\n",
       "        0.97142857, 1.        , 1.        , 0.93103448, 0.96875   ]),\n",
       " array([1.        , 1.        , 1.        , 1.        , 1.        ,\n",
       "        0.94444444, 0.91891892, 1.        , 0.87096774, 0.91176471]),\n",
       " array([0.97674419, 0.95918367, 1.        , 0.96153846, 1.        ,\n",
       "        0.95774648, 0.95774648, 1.        , 0.9       , 0.93939394]),\n",
       " array([42, 47, 39, 25, 34, 36, 37, 35, 31, 34]))"
      ]
     },
     "execution_count": 100,
     "metadata": {},
     "output_type": "execute_result"
    }
   ],
   "source": [
    "precision_recall_fscore_support(test_y.reshape(-1), y_hat)"
   ]
  },
  {
   "cell_type": "code",
   "execution_count": 101,
   "metadata": {},
   "outputs": [
    {
     "data": {
      "text/plain": [
       "0.9666666666666667"
      ]
     },
     "execution_count": 101,
     "metadata": {},
     "output_type": "execute_result"
    }
   ],
   "source": [
    "accuracy_score(test_y.reshape(-1), y_hat)"
   ]
  },
  {
   "cell_type": "code",
   "execution_count": 26,
   "metadata": {
    "scrolled": true
   },
   "outputs": [
    {
     "name": "stdout",
     "output_type": "stream",
     "text": [
      "Model: \"sequential\"\n",
      "_________________________________________________________________\n",
      "Layer (type)                 Output Shape              Param #   \n",
      "=================================================================\n",
      "dense (Dense)                multiple                  8320      \n",
      "_________________________________________________________________\n",
      "dense_1 (Dense)              multiple                  16512     \n",
      "_________________________________________________________________\n",
      "dense_2 (Dense)              multiple                  1290      \n",
      "=================================================================\n",
      "Total params: 26,122\n",
      "Trainable params: 26,122\n",
      "Non-trainable params: 0\n",
      "_________________________________________________________________\n"
     ]
    }
   ],
   "source": [
    "model.summary()"
   ]
  },
  {
   "cell_type": "markdown",
   "metadata": {},
   "source": [
    "Теперь сверточные сети."
   ]
  },
  {
   "cell_type": "code",
   "execution_count": 81,
   "metadata": {},
   "outputs": [],
   "source": [
    "model = keras.Sequential()\n",
    "model.add(layers.Conv1D(32, 3, activation='relu'))\n",
    "model.add(layers.Conv1D(32, 3, activation='relu'))\n",
    "model.add(layers.Flatten())\n",
    "model.add(layers.Dense(10, activation=\"softmax\"))\n",
    "\n",
    "model.compile(keras.optimizers.Adam(learning_rate=0.001), keras.losses.MeanSquaredError(reduction='sum'))\n"
   ]
  },
  {
   "cell_type": "code",
   "execution_count": 82,
   "metadata": {},
   "outputs": [],
   "source": [
    "train_x3 = train_x.reshape(-1, 64, 1)\n",
    "train_y3 = train_y2.reshape(-1, 10, 1)\n",
    "test_x3 = test_x.reshape(-1, 64, 1)\n",
    "test_y3 = test_y2.reshape(-1, 10, 1)"
   ]
  },
  {
   "cell_type": "code",
   "execution_count": 83,
   "metadata": {},
   "outputs": [
    {
     "name": "stdout",
     "output_type": "stream",
     "text": [
      "Epoch 1/20\n",
      "45/45 [==============================] - 0s 4ms/step - loss: 1.2457\n",
      "Epoch 2/20\n",
      "45/45 [==============================] - 0s 4ms/step - loss: 0.2872\n",
      "Epoch 3/20\n",
      "45/45 [==============================] - 0s 4ms/step - loss: 0.1959\n",
      "Epoch 4/20\n",
      "45/45 [==============================] - 0s 4ms/step - loss: 0.1643\n",
      "Epoch 5/20\n",
      "45/45 [==============================] - 0s 4ms/step - loss: 0.1105\n",
      "Epoch 6/20\n",
      "45/45 [==============================] - 0s 5ms/step - loss: 0.0723\n",
      "Epoch 7/20\n",
      "45/45 [==============================] - 0s 5ms/step - loss: 0.0491\n",
      "Epoch 8/20\n",
      "45/45 [==============================] - 0s 5ms/step - loss: 0.0430\n",
      "Epoch 9/20\n",
      "45/45 [==============================] - 0s 4ms/step - loss: 0.0367\n",
      "Epoch 10/20\n",
      "45/45 [==============================] - 0s 4ms/step - loss: 0.0238\n",
      "Epoch 11/20\n",
      "45/45 [==============================] - 0s 5ms/step - loss: 0.0208\n",
      "Epoch 12/20\n",
      "45/45 [==============================] - 0s 6ms/step - loss: 0.0197\n",
      "Epoch 13/20\n",
      "45/45 [==============================] - 0s 6ms/step - loss: 0.0177\n",
      "Epoch 14/20\n",
      "45/45 [==============================] - 0s 5ms/step - loss: 0.0165\n",
      "Epoch 15/20\n",
      "45/45 [==============================] - 0s 4ms/step - loss: 0.0151\n",
      "Epoch 16/20\n",
      "45/45 [==============================] - 0s 5ms/step - loss: 0.0176\n",
      "Epoch 17/20\n",
      "45/45 [==============================] - 0s 5ms/step - loss: 0.0129\n",
      "Epoch 18/20\n",
      "45/45 [==============================] - 0s 6ms/step - loss: 0.0151\n",
      "Epoch 19/20\n",
      "45/45 [==============================] - 0s 5ms/step - loss: 0.0175\n",
      "Epoch 20/20\n",
      "45/45 [==============================] - 0s 5ms/step - loss: 0.0271\n"
     ]
    },
    {
     "data": {
      "text/plain": [
       "<tensorflow.python.keras.callbacks.History at 0x7f684857c550>"
      ]
     },
     "execution_count": 83,
     "metadata": {},
     "output_type": "execute_result"
    }
   ],
   "source": [
    "model.fit(train_x3, train_y3, epochs=20)#, validation_data=(test_x3, test_y3))"
   ]
  },
  {
   "cell_type": "code",
   "execution_count": 84,
   "metadata": {},
   "outputs": [],
   "source": [
    "y_hat = model.predict(test_x3)"
   ]
  },
  {
   "cell_type": "code",
   "execution_count": 85,
   "metadata": {},
   "outputs": [],
   "source": [
    "y_hat = [np.argmax(y) for y in y_hat]"
   ]
  },
  {
   "cell_type": "code",
   "execution_count": 86,
   "metadata": {},
   "outputs": [
    {
     "data": {
      "text/plain": [
       "array([[42,  0,  0,  0,  0,  0,  0,  0,  0,  0],\n",
       "       [ 0, 46,  0,  0,  0,  0,  0,  0,  0,  1],\n",
       "       [ 0,  1, 38,  0,  0,  0,  0,  0,  0,  0],\n",
       "       [ 0,  0,  0, 22,  0,  0,  0,  0,  3,  0],\n",
       "       [ 0,  0,  0,  0, 34,  0,  0,  0,  0,  0],\n",
       "       [ 0,  0,  0,  0,  0, 34,  0,  0,  0,  2],\n",
       "       [ 0,  0,  0,  0,  0,  0, 37,  0,  0,  0],\n",
       "       [ 0,  0,  0,  0,  0,  0,  0, 35,  0,  0],\n",
       "       [ 0,  2,  0,  0,  1,  0,  0,  0, 28,  0],\n",
       "       [ 0,  0,  0,  0,  0,  0,  0,  0,  2, 32]])"
      ]
     },
     "execution_count": 86,
     "metadata": {},
     "output_type": "execute_result"
    }
   ],
   "source": [
    "confusion_matrix(test_y.reshape(-1), y_hat)"
   ]
  },
  {
   "cell_type": "code",
   "execution_count": 87,
   "metadata": {},
   "outputs": [
    {
     "data": {
      "text/plain": [
       "(array([1.        , 0.93877551, 1.        , 1.        , 0.97142857,\n",
       "        1.        , 1.        , 1.        , 0.84848485, 0.91428571]),\n",
       " array([1.        , 0.9787234 , 0.97435897, 0.88      , 1.        ,\n",
       "        0.94444444, 1.        , 1.        , 0.90322581, 0.94117647]),\n",
       " array([1.        , 0.95833333, 0.98701299, 0.93617021, 0.98550725,\n",
       "        0.97142857, 1.        , 1.        , 0.875     , 0.92753623]),\n",
       " array([42, 47, 39, 25, 34, 36, 37, 35, 31, 34]))"
      ]
     },
     "execution_count": 87,
     "metadata": {},
     "output_type": "execute_result"
    }
   ],
   "source": [
    "precision_recall_fscore_support(test_y.reshape(-1), y_hat)"
   ]
  },
  {
   "cell_type": "code",
   "execution_count": 88,
   "metadata": {},
   "outputs": [
    {
     "data": {
      "text/plain": [
       "0.9666666666666667"
      ]
     },
     "execution_count": 88,
     "metadata": {},
     "output_type": "execute_result"
    }
   ],
   "source": [
    "accuracy_score(test_y.reshape(-1), y_hat)"
   ]
  },
  {
   "cell_type": "code",
   "execution_count": 35,
   "metadata": {
    "scrolled": true
   },
   "outputs": [
    {
     "name": "stdout",
     "output_type": "stream",
     "text": [
      "Model: \"sequential_1\"\n",
      "_________________________________________________________________\n",
      "Layer (type)                 Output Shape              Param #   \n",
      "=================================================================\n",
      "conv1d (Conv1D)              multiple                  128       \n",
      "_________________________________________________________________\n",
      "conv1d_1 (Conv1D)            multiple                  3104      \n",
      "_________________________________________________________________\n",
      "flatten (Flatten)            multiple                  0         \n",
      "_________________________________________________________________\n",
      "dense_3 (Dense)              multiple                  19210     \n",
      "=================================================================\n",
      "Total params: 22,442\n",
      "Trainable params: 22,442\n",
      "Non-trainable params: 0\n",
      "_________________________________________________________________\n"
     ]
    }
   ],
   "source": [
    "model.summary()"
   ]
  },
  {
   "cell_type": "markdown",
   "metadata": {},
   "source": [
    "LSTM"
   ]
  },
  {
   "cell_type": "code",
   "execution_count": 106,
   "metadata": {},
   "outputs": [],
   "source": [
    "model = keras.Sequential()\n",
    "model.add(layers.Bidirectional(layers.LSTM(64)))\n",
    "# model.add(layers.Dropout(0.1))\n",
    "model.add(layers.Flatten())\n",
    "model.add(layers.Dense(10, activation=\"softmax\"))\n",
    "\n",
    "model.compile(keras.optimizers.Adam(learning_rate=0.001, clipnorm=1.), \n",
    "               keras.losses.MeanSquaredError(reduction='sum'),\n",
    "               metrics=[keras.metrics.Precision()])\n",
    "\n"
   ]
  },
  {
   "cell_type": "code",
   "execution_count": 107,
   "metadata": {},
   "outputs": [
    {
     "name": "stdout",
     "output_type": "stream",
     "text": [
      "Epoch 1/20\n",
      "45/45 [==============================] - 2s 42ms/step - loss: 2.7477 - precision_1: 0.0000e+00\n",
      "Epoch 2/20\n",
      "45/45 [==============================] - 2s 43ms/step - loss: 2.0372 - precision_1: 0.8847\n",
      "Epoch 3/20\n",
      "45/45 [==============================] - 2s 39ms/step - loss: 1.4847 - precision_1: 0.8974\n",
      "Epoch 4/20\n",
      "45/45 [==============================] - 2s 43ms/step - loss: 1.1605 - precision_1: 0.8813\n",
      "Epoch 5/20\n",
      "45/45 [==============================] - 2s 47ms/step - loss: 0.9592 - precision_1: 0.8901\n",
      "Epoch 6/20\n",
      "45/45 [==============================] - 2s 45ms/step - loss: 0.8144 - precision_1: 0.8902\n",
      "Epoch 7/20\n",
      "45/45 [==============================] - 2s 46ms/step - loss: 0.7928 - precision_1: 0.8919\n",
      "Epoch 8/20\n",
      "45/45 [==============================] - 2s 46ms/step - loss: 0.6399 - precision_1: 0.9191\n",
      "Epoch 9/20\n",
      "45/45 [==============================] - 2s 45ms/step - loss: 0.5709 - precision_1: 0.9235\n",
      "Epoch 10/20\n",
      "45/45 [==============================] - 3s 59ms/step - loss: 0.5722 - precision_1: 0.9146\n",
      "Epoch 11/20\n",
      "45/45 [==============================] - 3s 60ms/step - loss: 0.4500 - precision_1: 0.9399\n",
      "Epoch 12/20\n",
      "45/45 [==============================] - 3s 60ms/step - loss: 0.4156 - precision_1: 0.9447\n",
      "Epoch 13/20\n",
      "45/45 [==============================] - 2s 49ms/step - loss: 0.4071 - precision_1: 0.9400\n",
      "Epoch 14/20\n",
      "45/45 [==============================] - 2s 50ms/step - loss: 0.3753 - precision_1: 0.9454\n",
      "Epoch 15/20\n",
      "45/45 [==============================] - 2s 53ms/step - loss: 0.3711 - precision_1: 0.9471\n",
      "Epoch 16/20\n",
      "45/45 [==============================] - 2s 51ms/step - loss: 0.3343 - precision_1: 0.9504\n",
      "Epoch 17/20\n",
      "45/45 [==============================] - 2s 55ms/step - loss: 0.3025 - precision_1: 0.9566\n",
      "Epoch 18/20\n",
      "45/45 [==============================] - 2s 54ms/step - loss: 0.2506 - precision_1: 0.9630\n",
      "Epoch 19/20\n",
      "45/45 [==============================] - 2s 50ms/step - loss: 0.2689 - precision_1: 0.9657\n",
      "Epoch 20/20\n",
      "45/45 [==============================] - 2s 47ms/step - loss: 0.2824 - precision_1: 0.9558\n"
     ]
    },
    {
     "data": {
      "text/plain": [
       "<tensorflow.python.keras.callbacks.History at 0x7f684829e160>"
      ]
     },
     "execution_count": 107,
     "metadata": {},
     "output_type": "execute_result"
    }
   ],
   "source": [
    "model.fit(train_x3, train_y3, epochs=20)"
   ]
  },
  {
   "cell_type": "code",
   "execution_count": 108,
   "metadata": {},
   "outputs": [],
   "source": [
    "y_hat = model.predict(test_x3)"
   ]
  },
  {
   "cell_type": "code",
   "execution_count": 109,
   "metadata": {},
   "outputs": [],
   "source": [
    "y_hat = [np.argmax(y) for y in y_hat]"
   ]
  },
  {
   "cell_type": "code",
   "execution_count": 110,
   "metadata": {},
   "outputs": [
    {
     "data": {
      "text/plain": [
       "array([[5, 9, 3, 3, 2, 2, 1, 2, 0, 3],\n",
       "       [2, 6, 3, 3, 5, 2, 2, 8, 2, 6],\n",
       "       [3, 6, 2, 2, 5, 9, 6, 1, 8, 2],\n",
       "       [2, 3, 4, 1, 3, 4, 5, 4, 2, 6],\n",
       "       [4, 4, 1, 2, 5, 4, 1, 3, 3, 4],\n",
       "       [6, 3, 5, 3, 3, 5, 9, 4, 4, 1],\n",
       "       [4, 3, 5, 1, 2, 4, 2, 3, 2, 6],\n",
       "       [8, 3, 6, 1, 2, 2, 1, 3, 3, 2],\n",
       "       [5, 5, 6, 4, 2, 2, 5, 5, 4, 2],\n",
       "       [6, 7, 3, 0, 4, 4, 3, 4, 5, 0]])"
      ]
     },
     "execution_count": 110,
     "metadata": {},
     "output_type": "execute_result"
    }
   ],
   "source": [
    "confusion_matrix(test_y.reshape(-1), y_hat)"
   ]
  },
  {
   "cell_type": "code",
   "execution_count": 111,
   "metadata": {},
   "outputs": [
    {
     "data": {
      "text/plain": [
       "(array([0.11111111, 0.12244898, 0.05263158, 0.05      , 0.15151515,\n",
       "        0.13157895, 0.05714286, 0.08108108, 0.12121212, 0.        ]),\n",
       " array([0.16666667, 0.15384615, 0.04545455, 0.02941176, 0.16129032,\n",
       "        0.11627907, 0.0625    , 0.09677419, 0.1       , 0.        ]),\n",
       " array([0.13333333, 0.13636364, 0.04878049, 0.03703704, 0.15625   ,\n",
       "        0.12345679, 0.05970149, 0.08823529, 0.10958904, 0.        ]),\n",
       " array([30, 39, 44, 34, 31, 43, 32, 31, 40, 36]))"
      ]
     },
     "execution_count": 111,
     "metadata": {},
     "output_type": "execute_result"
    }
   ],
   "source": [
    "precision_recall_fscore_support(test_y.reshape(-1), y_hat)"
   ]
  },
  {
   "cell_type": "code",
   "execution_count": 112,
   "metadata": {},
   "outputs": [
    {
     "data": {
      "text/plain": [
       "0.09166666666666666"
      ]
     },
     "execution_count": 112,
     "metadata": {},
     "output_type": "execute_result"
    }
   ],
   "source": [
    "accuracy_score(test_y.reshape(-1), y_hat)"
   ]
  },
  {
   "cell_type": "code",
   "execution_count": 113,
   "metadata": {
    "scrolled": true
   },
   "outputs": [
    {
     "name": "stdout",
     "output_type": "stream",
     "text": [
      "Model: \"sequential_6\"\n",
      "_________________________________________________________________\n",
      "Layer (type)                 Output Shape              Param #   \n",
      "=================================================================\n",
      "bidirectional_1 (Bidirection multiple                  33792     \n",
      "_________________________________________________________________\n",
      "flatten_3 (Flatten)          multiple                  0         \n",
      "_________________________________________________________________\n",
      "dense_12 (Dense)             multiple                  1290      \n",
      "=================================================================\n",
      "Total params: 35,082\n",
      "Trainable params: 35,082\n",
      "Non-trainable params: 0\n",
      "_________________________________________________________________\n"
     ]
    }
   ],
   "source": [
    "model.summary()"
   ]
  },
  {
   "cell_type": "code",
   "execution_count": null,
   "metadata": {},
   "outputs": [],
   "source": []
  }
 ],
 "metadata": {
  "kernelspec": {
   "display_name": "Python 3",
   "language": "python",
   "name": "python3"
  },
  "language_info": {
   "codemirror_mode": {
    "name": "ipython",
    "version": 3
   },
   "file_extension": ".py",
   "mimetype": "text/x-python",
   "name": "python",
   "nbconvert_exporter": "python",
   "pygments_lexer": "ipython3",
   "version": "3.6.9"
  }
 },
 "nbformat": 4,
 "nbformat_minor": 2
}
