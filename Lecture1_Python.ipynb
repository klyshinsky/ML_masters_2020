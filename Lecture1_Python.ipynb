{
 "cells": [
  {
   "cell_type": "markdown",
   "metadata": {},
   "source": [
    "![](https://nerdist.com/wp-content/uploads/2018/03/Monty-Pythons-Flying-Circus.jpg)"
   ]
  },
  {
   "cell_type": "markdown",
   "metadata": {},
   "source": [
    "# Язык программирования Python\n",
    "Назван так в 1991 году в честь комик-группы [Monty Python](https://en.wikipedia.org/wiki/Monty_Python) и их шоу [Monty Python's Flying Circus](https://en.wikipedia.org/wiki/Monty_Python%27s_Flying_Circus), которое чрезвычайно нравилось создателю этого языка программирования Гвидо ван Россуму."
   ]
  },
  {
   "cell_type": "markdown",
   "metadata": {},
   "source": [
    "# Среда разработки Jupyter Notebook\n",
    "Мы будем работать в среде [Jupyter Notebook](https://jupyter.org/) так как она является свободно распространяемой и позволяет выполнять отдельные фрагменты кода, а не программу целиком. Подобное бывает очень удобно при изучении отдельных классов и методов, а также при многочисленных прогонов различных версий программы, отличающейся лишь небольшими исправлениями.\n",
    "\n",
    "Среда является стандартом де-факто для обучения и исследований, так как позволяет чередовать фрагменты кода с комментариями, что делает ее похожей на статью или фрагмент книги. Справку по взаимодействию со средой можно получить нажав на клавишу **H**. Комментарии могут размечаться при помощи языка [HTML](http://htmlbook.ru/) или [Markdown](https://github.com/google/styleguide/blob/gh-pages/docguide/style.md), принятого на сайте GitHub.\n",
    "\n",
    "Для того, чтобы начать редактирование ячейки, необходимо выбрать ее и нажать Enter или дважды кликнуть по ячейке. Для ячеек с кодом или редактируемых ячеек с комментариями достаточно кликнуть в область редактирования.\n",
    "\n",
    "В качестве альтернативы можно использовать полноценную среду разработки [PyCharm](https://www.jetbrains.com/pycharm/) или другие."
   ]
  },
  {
   "cell_type": "markdown",
   "metadata": {},
   "source": [
    "# Основные операторы языка Python\n",
    "Традиционно начнем с оператора вывода.\n",
    "\n",
    "Выполнить ячейку можно нажав **Ctrl+Enter**. Обратите внимание, что рядом с кодом отображается результат его выполнения."
   ]
  },
  {
   "cell_type": "code",
   "execution_count": 1,
   "metadata": {
    "scrolled": true
   },
   "outputs": [
    {
     "name": "stdout",
     "output_type": "stream",
     "text": [
      "Hello world!\n"
     ]
    }
   ],
   "source": [
    "print(\"Hello world!\")"
   ]
  },
  {
   "cell_type": "markdown",
   "metadata": {},
   "source": [
    "Строковые константы в Python заключаются в кавычки или апострофы по желанию программиста. Строки нельзя изменять, но можно получать их фрагенты или складывать.\n",
    "\n",
    "`print` принимает произвольное количество параметров любого типа, которые отделяются друг от друга пробелами.\n",
    "\n",
    "Переменные вводятся в любой момент и не имеют фиксированного типа."
   ]
  },
  {
   "cell_type": "code",
   "execution_count": 2,
   "metadata": {},
   "outputs": [
    {
     "name": "stdout",
     "output_type": "stream",
     "text": [
      "number 10\n",
      "string asdfasdfasdf\n"
     ]
    }
   ],
   "source": [
    "# Комментарии записываются после знака #\n",
    "#  начале заведем переменную a как целочисленную.\n",
    "a=10\n",
    "print('number', a)\n",
    "# Теперь сменим ее тип на строковый.\n",
    "a=\"asdf\"*3\n",
    "\n",
    "print(\"string\", a)"
   ]
  },
  {
   "cell_type": "code",
   "execution_count": 3,
   "metadata": {},
   "outputs": [
    {
     "data": {
      "text/plain": [
       "'the value is 10 degrees'"
      ]
     },
     "execution_count": 3,
     "metadata": {},
     "output_type": "execute_result"
    }
   ],
   "source": [
    "ddd = 10\n",
    "\"the value is {} degrees\".format(ddd)"
   ]
  },
  {
   "cell_type": "markdown",
   "metadata": {},
   "source": [
    "Метод type позволяет получить тип переменной."
   ]
  },
  {
   "cell_type": "code",
   "execution_count": 4,
   "metadata": {},
   "outputs": [
    {
     "name": "stdout",
     "output_type": "stream",
     "text": [
      "number 10.1 <class 'float'>\n",
      "string asdf <class 'str'>\n"
     ]
    }
   ],
   "source": [
    "a=10.1\n",
    "print('number', a, type(a))\n",
    "a=\"asdf\"\n",
    "print(\"string\", a, type(a))"
   ]
  },
  {
   "cell_type": "markdown",
   "metadata": {},
   "source": [
    "Помощь по любой функции можно получить нажав **Shift+Tab** или при помощи функции help."
   ]
  },
  {
   "cell_type": "code",
   "execution_count": 5,
   "metadata": {},
   "outputs": [
    {
     "name": "stdout",
     "output_type": "stream",
     "text": [
      "Help on built-in function print in module builtins:\n",
      "\n",
      "print(...)\n",
      "    print(value, ..., sep=' ', end='\\n', file=sys.stdout, flush=False)\n",
      "    \n",
      "    Prints the values to a stream, or to sys.stdout by default.\n",
      "    Optional keyword arguments:\n",
      "    file:  a file-like object (stream); defaults to the current sys.stdout.\n",
      "    sep:   string inserted between values, default a space.\n",
      "    end:   string appended after the last value, default a newline.\n",
      "    flush: whether to forcibly flush the stream.\n",
      "\n"
     ]
    }
   ],
   "source": [
    "help(print)"
   ]
  },
  {
   "cell_type": "markdown",
   "metadata": {},
   "source": [
    "Если результат не присваивается в какую-либо переменную, то он выводится, однако следующий вывод затирает предыдущий.\n",
    "\n",
    "Если нет желания видеть вывод на экране, традиционно используется переменная `_`."
   ]
  },
  {
   "cell_type": "code",
   "execution_count": 6,
   "metadata": {},
   "outputs": [
    {
     "data": {
      "text/plain": [
       "100"
      ]
     },
     "execution_count": 6,
     "metadata": {},
     "output_type": "execute_result"
    }
   ],
   "source": [
    "b=100\n",
    "b"
   ]
  },
  {
   "cell_type": "code",
   "execution_count": 7,
   "metadata": {},
   "outputs": [
    {
     "data": {
      "text/plain": [
       "'asdf'"
      ]
     },
     "execution_count": 7,
     "metadata": {},
     "output_type": "execute_result"
    }
   ],
   "source": [
    "b=101\n",
    "b\n",
    "a"
   ]
  },
  {
   "cell_type": "markdown",
   "metadata": {},
   "source": [
    "Для получения строкового представления любой переменной используется функция `str`."
   ]
  },
  {
   "cell_type": "code",
   "execution_count": 8,
   "metadata": {},
   "outputs": [
    {
     "name": "stdout",
     "output_type": "stream",
     "text": [
      "number is 101asdf\n"
     ]
    }
   ],
   "source": [
    "print(\"number is \"+str(b)+a)"
   ]
  },
  {
   "cell_type": "markdown",
   "metadata": {},
   "source": [
    "Кто видит проблему в ячейке выше?"
   ]
  },
  {
   "cell_type": "markdown",
   "metadata": {},
   "source": [
    "## Арифметические операции\n",
    "\n",
    "- Сложение: +\n",
    "- Вычитание: -\n",
    "- Умножение: \\*\n",
    "- Деление: /\n",
    "- Целочисленное деление: //\n",
    "- Остаток от деления: %\n",
    "- Возведение в степень \\*\\*"
   ]
  },
  {
   "cell_type": "code",
   "execution_count": 9,
   "metadata": {},
   "outputs": [
    {
     "name": "stdout",
     "output_type": "stream",
     "text": [
      "Работаем с числами 5 и 2\n",
      "Cложение: 7\n",
      "Вычитание: 3\n",
      "Умножение: 10\n",
      "Деление: 2.5\n",
      "Целочисленное деление: 2\n",
      "Остаток от деления: 1\n",
      "Возведение в степень: 25\n"
     ]
    }
   ],
   "source": [
    "print('Работаем с числами', 5, 'и', 2)\n",
    "print('Cложение:', 5 + 2)\n",
    "print('Вычитание:', 5 - 2)\n",
    "print('Умножение:', 5 * 2)\n",
    "print('Деление:', 5 / 2)\n",
    "print('Целочисленное деление:', 5 // 2)\n",
    "print('Остаток от деления:', 5 % 2)\n",
    "print('Возведение в степень:', 5**2)"
   ]
  },
  {
   "cell_type": "code",
   "execution_count": 10,
   "metadata": {},
   "outputs": [
    {
     "name": "stdout",
     "output_type": "stream",
     "text": [
      "Работаем со строками 5 и 2\n",
      "Сложение  52\n",
      "Умножение на число 55\n"
     ]
    }
   ],
   "source": [
    "print('Работаем со строками 5 и 2')\n",
    "print('Сложение ', '5'+'2')\n",
    "print('Умножение на число', '5'*2)"
   ]
  },
  {
   "cell_type": "markdown",
   "metadata": {},
   "source": [
    "Помимо типов int, float и str, существует булевский тип bool, который принимает значения `True` или `False`."
   ]
  },
  {
   "cell_type": "code",
   "execution_count": 11,
   "metadata": {},
   "outputs": [
    {
     "data": {
      "text/plain": [
       "True"
      ]
     },
     "execution_count": 11,
     "metadata": {},
     "output_type": "execute_result"
    }
   ],
   "source": [
    "# Оператор is проверяет соответствие двух операндов.\n",
    "type(a) is str"
   ]
  },
  {
   "cell_type": "code",
   "execution_count": 12,
   "metadata": {},
   "outputs": [
    {
     "data": {
      "text/plain": [
       "False"
      ]
     },
     "execution_count": 12,
     "metadata": {},
     "output_type": "execute_result"
    }
   ],
   "source": [
    "c=False\n",
    "c"
   ]
  },
  {
   "cell_type": "markdown",
   "metadata": {},
   "source": [
    "### Логические операции\n",
    "\n",
    "- И: and\n",
    "- Или: or\n",
    "- Не: not\n",
    "- Равно: ==\n",
    "- Не равно: !=\n",
    "- Сравнение: < <= > >=\n"
   ]
  },
  {
   "cell_type": "code",
   "execution_count": 13,
   "metadata": {},
   "outputs": [
    {
     "name": "stdout",
     "output_type": "stream",
     "text": [
      "False\n",
      "False\n",
      "False\n",
      "True\n",
      "True\n"
     ]
    }
   ],
   "source": [
    "print(True and False)\n",
    "print(not (True or False))\n",
    "print(2>3)\n",
    "print(3<=4)\n",
    "print('1'!=1)"
   ]
  },
  {
   "cell_type": "markdown",
   "metadata": {},
   "source": [
    "## Списки, кортежи, множества"
   ]
  },
  {
   "cell_type": "markdown",
   "metadata": {},
   "source": [
    "В языке Python нет массивов, но есть совершенно замечательные списки. Имя типа - list. Для создания списка используются квадратные скобки."
   ]
  },
  {
   "cell_type": "code",
   "execution_count": 14,
   "metadata": {},
   "outputs": [
    {
     "data": {
      "text/plain": [
       "[1, 2, 3, 4]"
      ]
     },
     "execution_count": 14,
     "metadata": {},
     "output_type": "execute_result"
    }
   ],
   "source": [
    "l=[1,2,3,4]\n",
    "l"
   ]
  },
  {
   "cell_type": "markdown",
   "metadata": {},
   "source": [
    "Списки можно модифицировать, например, добавляя к ним элементы при помощи функции [append](https://pythonworld.ru/tipy-dannyx-v-python/spiski-list-funkcii-i-metody-spiskov.html). "
   ]
  },
  {
   "cell_type": "code",
   "execution_count": 15,
   "metadata": {},
   "outputs": [
    {
     "data": {
      "text/plain": [
       "[1, 2, 3, 4, 12]"
      ]
     },
     "execution_count": 15,
     "metadata": {},
     "output_type": "execute_result"
    }
   ],
   "source": [
    "l.append(12)\n",
    "l"
   ]
  },
  {
   "cell_type": "markdown",
   "metadata": {},
   "source": [
    "Длину списка можно получить при помощи функции `len`. (Как вы думаете, что ниже пошло не так?)"
   ]
  },
  {
   "cell_type": "code",
   "execution_count": 16,
   "metadata": {},
   "outputs": [
    {
     "data": {
      "text/plain": [
       "5"
      ]
     },
     "execution_count": 16,
     "metadata": {},
     "output_type": "execute_result"
    }
   ],
   "source": [
    "len(l)"
   ]
  },
  {
   "cell_type": "markdown",
   "metadata": {},
   "source": [
    "Списки могут содержать в себе переменные любых типов."
   ]
  },
  {
   "cell_type": "code",
   "execution_count": 17,
   "metadata": {},
   "outputs": [
    {
     "data": {
      "text/plain": [
       "['asdf', 'qwe', [12, 13], 1.5]"
      ]
     },
     "execution_count": 17,
     "metadata": {},
     "output_type": "execute_result"
    }
   ],
   "source": [
    "l2=[a, 'qwe', [12, 13], 1.5]\n",
    "l2"
   ]
  },
  {
   "cell_type": "markdown",
   "metadata": {},
   "source": [
    "Проверить наличие элемента в списке (и не только) ожно при помощи оператора `in`."
   ]
  },
  {
   "cell_type": "code",
   "execution_count": 18,
   "metadata": {},
   "outputs": [
    {
     "data": {
      "text/plain": [
       "True"
      ]
     },
     "execution_count": 18,
     "metadata": {},
     "output_type": "execute_result"
    }
   ],
   "source": [
    "'qwe' in l2"
   ]
  },
  {
   "cell_type": "markdown",
   "metadata": {},
   "source": [
    "Для получения элемента списка используются квадратные скобки. Нумерация элементов начинается с 0."
   ]
  },
  {
   "cell_type": "code",
   "execution_count": 19,
   "metadata": {},
   "outputs": [
    {
     "name": "stdout",
     "output_type": "stream",
     "text": [
      "asdf [12, 13] 12\n"
     ]
    },
    {
     "data": {
      "text/plain": [
       "['asdf', 'qwe', [12, 13, 14, 15], 1.5]"
      ]
     },
     "execution_count": 19,
     "metadata": {},
     "output_type": "execute_result"
    }
   ],
   "source": [
    "print(l2[0], l2[2], l2[2][0])\n",
    "l2[2].extend([14, 15])\n",
    "l2"
   ]
  },
  {
   "cell_type": "markdown",
   "metadata": {},
   "source": [
    "Удаление элементов из списков производится при помощи оператора `del`."
   ]
  },
  {
   "cell_type": "code",
   "execution_count": 20,
   "metadata": {},
   "outputs": [
    {
     "data": {
      "text/plain": [
       "['asdf', 'qwe', 1.5]"
      ]
     },
     "execution_count": 20,
     "metadata": {},
     "output_type": "execute_result"
    }
   ],
   "source": [
    "del l2[2]\n",
    "l2"
   ]
  },
  {
   "cell_type": "markdown",
   "metadata": {},
   "source": [
    "Кортеж (`tuple`) создается при помощи круглых скобок. Он не может быть моддифицирован. Элементы кортежа получаются при помощи квадратных скобок. "
   ]
  },
  {
   "cell_type": "code",
   "execution_count": 21,
   "metadata": {},
   "outputs": [
    {
     "name": "stdout",
     "output_type": "stream",
     "text": [
      "(0, 1, 2) 0\n"
     ]
    }
   ],
   "source": [
    "t=(0, 1, 2)\n",
    "print(t, t[0])"
   ]
  },
  {
   "cell_type": "markdown",
   "metadata": {},
   "source": [
    "Множество (`set`) содержит в себе неповторяющиеся элементы."
   ]
  },
  {
   "cell_type": "code",
   "execution_count": 22,
   "metadata": {},
   "outputs": [
    {
     "data": {
      "text/plain": [
       "{1, 2, 3, 4, 5}"
      ]
     },
     "execution_count": 22,
     "metadata": {},
     "output_type": "execute_result"
    }
   ],
   "source": [
    "l=[1,2,1,5,3,4,4,5,5]\n",
    "s=set(l)\n",
    "s"
   ]
  },
  {
   "cell_type": "markdown",
   "metadata": {},
   "source": [
    "С множествами можно проведить теоретико-множественные операции."
   ]
  },
  {
   "cell_type": "code",
   "execution_count": 23,
   "metadata": {},
   "outputs": [
    {
     "name": "stdout",
     "output_type": "stream",
     "text": [
      "{2, 3, 4}\n",
      "{1, 5}\n",
      "{1, 2, 3, 4, 5, 6, 7, 8}\n",
      "[1, 2, 3, 4, 5, 6, 7, 8]\n"
     ]
    }
   ],
   "source": [
    "s2=set([1, 5, 6, 7, 8])\n",
    "print(s-s2)\n",
    "print(s&s2)\n",
    "print(s|s2)\n",
    "print(list(s|s2))"
   ]
  },
  {
   "cell_type": "markdown",
   "metadata": {},
   "source": [
    "Имейте в виду, что вместо копирования, при копировании списков Python копирует ссылку на объект."
   ]
  },
  {
   "cell_type": "code",
   "execution_count": 24,
   "metadata": {},
   "outputs": [
    {
     "data": {
      "text/plain": [
       "[1000, 'qwe', 1.5]"
      ]
     },
     "execution_count": 24,
     "metadata": {},
     "output_type": "execute_result"
    }
   ],
   "source": [
    "l3=l2\n",
    "l2[0]=1000\n",
    "l3"
   ]
  },
  {
   "cell_type": "markdown",
   "metadata": {},
   "source": [
    "# Индексирование списков\n",
    "Как мы уже видели, к элементам списка можно обращаться при помощи квадратных скобок. Положительные значения отсчитываются от начала списка, отрицательные - от конца."
   ]
  },
  {
   "cell_type": "code",
   "execution_count": 25,
   "metadata": {},
   "outputs": [
    {
     "data": {
      "text/plain": [
       "(1.5, 'qwe')"
      ]
     },
     "execution_count": 25,
     "metadata": {},
     "output_type": "execute_result"
    }
   ],
   "source": [
    "l2[-1], l2[-2]"
   ]
  },
  {
   "cell_type": "markdown",
   "metadata": {},
   "source": [
    "Индекс может возвращать не только элемент списка, но и подсписок. В квадратных скобках через двоеточие может идти индекс начала подсписка, индекс окончания и шаг. Любой индекс можно пропустить и вместо него будет подсавлено значение по умолчанию.\n",
    "\n",
    "Если вы указываете номер последнего элемента, то сам этот элемент включен не будет."
   ]
  },
  {
   "cell_type": "code",
   "execution_count": 26,
   "metadata": {},
   "outputs": [
    {
     "name": "stdout",
     "output_type": "stream",
     "text": [
      "[2, 1] [1, 5, 3, 4, 4, 5, 5] [1, 2, 1, 5]\n"
     ]
    }
   ],
   "source": [
    "print(l[1:3], l[2:], l[:4])"
   ]
  },
  {
   "cell_type": "code",
   "execution_count": 27,
   "metadata": {},
   "outputs": [
    {
     "name": "stdout",
     "output_type": "stream",
     "text": [
      "[2, 5] [5, 4, 4]\n"
     ]
    }
   ],
   "source": [
    "print(l[1:5:2], l[-2: -5: -1])"
   ]
  },
  {
   "cell_type": "code",
   "execution_count": 28,
   "metadata": {},
   "outputs": [
    {
     "name": "stdout",
     "output_type": "stream",
     "text": [
      "[5, 5, 4, 4, 3, 5, 1, 2, 1]\n"
     ]
    }
   ],
   "source": [
    "print(l[::-1])"
   ]
  },
  {
   "cell_type": "markdown",
   "metadata": {},
   "source": [
    "Послений пример показывает нам существование так называемого **Pythonic Way** - надо писать как можно меньше кода на Python.\n",
    "\n",
    "Если вы что-то хотите сделать, скорее всего существует несколько путей реализации. Так как язык развивается уже достаточно долго, скорее всего существует оптимальный код реализации, который занимает меньше строк и работает быстрее. Не стесняйтесь найти его в Интернете."
   ]
  },
  {
   "cell_type": "markdown",
   "metadata": {},
   "source": [
    "## Словари\n",
    "Словарь (`dict`) хранит связанные пары: ключ и значение. По ключу можно извлечь значение. Список ключей возвращается методом `keys`, список значений - методом `value`, список кортежей, сожержащих ключ и значение - методом `items`. Ключем может быть большая часть значений (но не все!)."
   ]
  },
  {
   "cell_type": "code",
   "execution_count": 29,
   "metadata": {},
   "outputs": [
    {
     "name": "stdout",
     "output_type": "stream",
     "text": [
      "1 2 3\n",
      "dict_keys(['s', '1', 1])\n",
      "dict_values([1, 2, '3'])\n",
      "dict_items([('s', 1), ('1', 2), (1, '3')])\n"
     ]
    }
   ],
   "source": [
    "d={'s':1, '1':2, 1:'3'}\n",
    "print(d['s'], d['1'], d[1])\n",
    "print(d.keys())\n",
    "print(d.values())\n",
    "print(d.items())"
   ]
  },
  {
   "cell_type": "markdown",
   "metadata": {},
   "source": [
    "Для того, чтобы добавить пару ключ-значение в словарь, нужно просто присвоить элементу словаря, соответствующему ключу, нужное значение."
   ]
  },
  {
   "cell_type": "code",
   "execution_count": 30,
   "metadata": {},
   "outputs": [
    {
     "name": "stdout",
     "output_type": "stream",
     "text": [
      "dict_items([('s', 1), ('1', 2), (1, '3'), ('k', 4), (2, 5)])\n"
     ]
    }
   ],
   "source": [
    "d['k'] = 4\n",
    "d[2] = 5\n",
    "\n",
    "print(d.items())"
   ]
  },
  {
   "cell_type": "markdown",
   "metadata": {},
   "source": [
    "Если соответствующий ключ не найден, словарь выдаст ошибку. Для того, чтобы попытаться найти значение без генерации ошибок, используется метод `get`, в который можно передать значение, возвращаемое по умолчанию."
   ]
  },
  {
   "cell_type": "code",
   "execution_count": 31,
   "metadata": {},
   "outputs": [
    {
     "name": "stdout",
     "output_type": "stream",
     "text": [
      "None\n"
     ]
    }
   ],
   "source": [
    "# None - это стандартное значение для отсутствующего значения.\n",
    "print(d.get('aaa', None))"
   ]
  },
  {
   "cell_type": "markdown",
   "metadata": {},
   "source": [
    "## Условный оператор\n",
    "\n",
    "\n",
    "```python\n",
    "if condition_1:\n",
    "    do_something\n",
    "elif condition_2:\n",
    "    do_something_else\n",
    "elif condition_3:\n",
    "    do_that_thing_now\n",
    "else:\n",
    "    our_last_hope\n",
    "```\n",
    "\n",
    "В операторе `if` используются булевские выражения или переменные.\n",
    "\n",
    "В языке Python вложенность одного оператора в другой обозначается при помощи отступов. Все операторы, вложенные в другой оператор, должны иметь один и тот же отступ. Все операторы, требующие после себя отступа, заканчиваются на двоеточие. Оператор \"ничего не делать\" назыввается `pass`."
   ]
  },
  {
   "cell_type": "code",
   "execution_count": 32,
   "metadata": {},
   "outputs": [
    {
     "name": "stdout",
     "output_type": "stream",
     "text": [
      "Two\n"
     ]
    }
   ],
   "source": [
    "a=5\n",
    "if a==4:\n",
    "    print('One')\n",
    "elif a==5:\n",
    "    print('Two')\n",
    "elif a!=3:\n",
    "    print('Three')\n",
    "else:\n",
    "    print('Other')"
   ]
  },
  {
   "cell_type": "code",
   "execution_count": 33,
   "metadata": {},
   "outputs": [
    {
     "name": "stdout",
     "output_type": "stream",
     "text": [
      "Five\n"
     ]
    }
   ],
   "source": [
    "if []:\n",
    "    print(\"Four\")\n",
    "elif [1,2]:\n",
    "    print(\"Five\")"
   ]
  },
  {
   "cell_type": "markdown",
   "metadata": {},
   "source": [
    "## Цикл while\n",
    "\n",
    "Цикл, который выполняет действие, пока истинно условие.\n",
    "\n",
    "```python\n",
    "while condition:\n",
    "    do_that\n",
    "```\n"
   ]
  },
  {
   "cell_type": "code",
   "execution_count": 34,
   "metadata": {},
   "outputs": [
    {
     "name": "stdout",
     "output_type": "stream",
     "text": [
      "0\n",
      "1\n",
      "2\n",
      "3\n",
      "4\n",
      "5\n",
      "6\n",
      "7\n",
      "8\n",
      "9\n"
     ]
    }
   ],
   "source": [
    "x = 0\n",
    "while x < 10:\n",
    "    print(x)\n",
    "    x += 1"
   ]
  },
  {
   "cell_type": "markdown",
   "metadata": {},
   "source": [
    "## Цикл for\n",
    "Цикл перебирает все элементы из некоторым образом описанной группы.\n",
    "\n",
    "```python\n",
    "for i in iterable_object:\n",
    "    do_something\n",
    "```"
   ]
  },
  {
   "cell_type": "code",
   "execution_count": 35,
   "metadata": {},
   "outputs": [
    {
     "name": "stdout",
     "output_type": "stream",
     "text": [
      "1\n",
      "4\n",
      "7\n",
      "89\n"
     ]
    }
   ],
   "source": [
    "for element in [1, 4, 7, 1., \"hello\", 89]:\n",
    "    if type(element) == int:\n",
    "        print(element)"
   ]
  },
  {
   "cell_type": "markdown",
   "metadata": {},
   "source": [
    "Во всех циклах для досрочного завершения используется оператор `break`, для пропуска оставшейся части итерации - `continue`."
   ]
  },
  {
   "cell_type": "code",
   "execution_count": 36,
   "metadata": {},
   "outputs": [
    {
     "name": "stdout",
     "output_type": "stream",
     "text": [
      "0\n",
      "1\n",
      "3\n",
      "4\n"
     ]
    }
   ],
   "source": [
    "for a in range(10):\n",
    "    if a==5:\n",
    "        break\n",
    "    elif a==2:\n",
    "        continue\n",
    "    print(a)"
   ]
  },
  {
   "cell_type": "markdown",
   "metadata": {},
   "source": [
    "## Итераторы и генераторы"
   ]
  },
  {
   "cell_type": "markdown",
   "metadata": {},
   "source": [
    "Функция `range` генерирует элементы множества целых чисео от начального значения до конечного с заданным шагом."
   ]
  },
  {
   "cell_type": "code",
   "execution_count": 37,
   "metadata": {},
   "outputs": [
    {
     "name": "stdout",
     "output_type": "stream",
     "text": [
      "range(0, 10)\n",
      "0 1 2 3 4 5 6 7 8 9 \n",
      "4 5 6 7 8 9 \n",
      "[3, 5, 7, 9]\n"
     ]
    }
   ],
   "source": [
    "print(range(10))\n",
    "for i in range(10):\n",
    "    print(i, end=' ')\n",
    "print()\n",
    "for i in range(4, 10):\n",
    "    print(i, end=' ')\n",
    "print()\n",
    "print(list(range(3, 10, 2)))"
   ]
  },
  {
   "cell_type": "markdown",
   "metadata": {},
   "source": [
    "Если нам необходимо перебрать элементы и их индексы, используется `enumerate`, который возвращает кортеж из индекса и элемента."
   ]
  },
  {
   "cell_type": "code",
   "execution_count": 38,
   "metadata": {},
   "outputs": [
    {
     "name": "stdout",
     "output_type": "stream",
     "text": [
      "1 1\n",
      "2 4\n",
      "3 7\n",
      "4 1.0\n",
      "5 hello\n",
      "6 89\n"
     ]
    }
   ],
   "source": [
    "for i, element in enumerate([1, 4, 7, 1., \"hello\", 89]):\n",
    "    print(i+1, element)"
   ]
  },
  {
   "cell_type": "markdown",
   "metadata": {},
   "source": [
    "Если мы не хотим хранить всё множество в памяти, но хотим генерировать его на ходу, мы можем использовать генераторы. Также это очень удобно если множество создается по некоторым несложным правилам.\n",
    "\n",
    "Скобки задают что именно будет генерироваться: список, множество или словарь.\n",
    "\n",
    "Генератор задается следующим образом: элемент откуда\\_создается условие"
   ]
  },
  {
   "cell_type": "code",
   "execution_count": 39,
   "metadata": {},
   "outputs": [
    {
     "data": {
      "text/plain": [
       "([0.5, 1.5, 2.5, 3.5, 4.5], [0.5, 1.5, 2.5, 3.5, 4.5])"
      ]
     },
     "execution_count": 39,
     "metadata": {},
     "output_type": "execute_result"
    }
   ],
   "source": [
    "l3 = [el / 2 for el in range(10) if el % 2 == 1]\n",
    "l4 = [el + 0.5 for el in range(5)]\n",
    "l3, l4"
   ]
  },
  {
   "cell_type": "code",
   "execution_count": 40,
   "metadata": {},
   "outputs": [
    {
     "data": {
      "text/plain": [
       "{0: 0.5, 1: 1.5, 2: 2.5, 3: 3.5, 4: 4.5}"
      ]
     },
     "execution_count": 40,
     "metadata": {},
     "output_type": "execute_result"
    }
   ],
   "source": [
    "d3 = {i:l4[i] for i in range(5)}\n",
    "d3"
   ]
  },
  {
   "cell_type": "markdown",
   "metadata": {},
   "source": [
    "В языке Python можно вместо кортежа использовать несколько переменных."
   ]
  },
  {
   "cell_type": "code",
   "execution_count": 41,
   "metadata": {},
   "outputs": [
    {
     "name": "stdout",
     "output_type": "stream",
     "text": [
      "0 1.5\n",
      "1 4.5\n",
      "2 7.5\n",
      "3 10.5\n",
      "4 13.5\n"
     ]
    }
   ],
   "source": [
    "for key, val in d3.items():\n",
    "    print(key, val*3)"
   ]
  },
  {
   "cell_type": "markdown",
   "metadata": {},
   "source": [
    "В генераторах также можно использовать нужную нам индексацию списков."
   ]
  },
  {
   "cell_type": "code",
   "execution_count": 42,
   "metadata": {},
   "outputs": [
    {
     "data": {
      "text/plain": [
       "[10.5, 7.5, 4.5, 1.5]"
      ]
     },
     "execution_count": 42,
     "metadata": {},
     "output_type": "execute_result"
    }
   ],
   "source": [
    "l4 = [l*3 for l in l3[-2::-1]]\n",
    "l4"
   ]
  },
  {
   "cell_type": "markdown",
   "metadata": {},
   "source": [
    "Иногда бывает необходимо явно преобразовать итератор в список - для этого используется функция создания списка list (такие же существуют для словарей - dict, и других типов). В этом случае он весь \"одномоментно повится\" в оперативной памяти (и будет ее занимать) вместо того, чтобы порождаться поэлементно (что бы про это не думала функция type)."
   ]
  },
  {
   "cell_type": "code",
   "execution_count": 43,
   "metadata": {},
   "outputs": [
    {
     "name": "stdout",
     "output_type": "stream",
     "text": [
      "[10.5, 7.5, 4.5, 1.5]\n",
      "<class 'list'> <class 'list'>\n"
     ]
    }
   ],
   "source": [
    "l5 = list([l*3 for l in l3[-2::-1]])\n",
    "print(l5)\n",
    "print(type(l5), type([l*3 for l in l3[-2::-1]]))"
   ]
  },
  {
   "cell_type": "markdown",
   "metadata": {},
   "source": [
    "## Функции"
   ]
  },
  {
   "cell_type": "markdown",
   "metadata": {},
   "source": [
    "Функции в языке Python описываются при помощи ключевого слова `def`. Результат возвращается при помощи `return`.\n",
    "\n",
    "```python\n",
    "def myFunction(argument_1, argument_2=default_value, ...):\n",
    "    do_stuff_with_arguments\n",
    "    return result\n",
    "```"
   ]
  },
  {
   "cell_type": "code",
   "execution_count": 44,
   "metadata": {},
   "outputs": [
    {
     "data": {
      "text/plain": [
       "10"
      ]
     },
     "execution_count": 44,
     "metadata": {},
     "output_type": "execute_result"
    }
   ],
   "source": [
    "def sumIt(l):\n",
    "    s=0\n",
    "    for el in l:\n",
    "        s+=el\n",
    "    return s\n",
    "\n",
    "sumIt([1,2,3,4])"
   ]
  },
  {
   "cell_type": "markdown",
   "metadata": {},
   "source": [
    "Функции могут принимать значения по умолчанию. Сперва идут позиционные параметры, для которых значения по умолчанию не заданы - они передаются в строго определенном порядке. Параметры, для которых задано значение по умолчанию, могут пропускаться. Для передачи можно использовать имена параметров."
   ]
  },
  {
   "cell_type": "code",
   "execution_count": 45,
   "metadata": {},
   "outputs": [
    {
     "data": {
      "text/plain": [
       "[111, 3]"
      ]
     },
     "execution_count": 45,
     "metadata": {},
     "output_type": "execute_result"
    }
   ],
   "source": [
    "arr = [1, 1, 1]\n",
    "def f(x=[], el=None):\n",
    "    el = el if el else []\n",
    "    el.append(3)\n",
    "    return x + el\n",
    "\n",
    "aaa = [111]\n",
    "bbb = [222]\n",
    "f(el=aaa)"
   ]
  },
  {
   "cell_type": "markdown",
   "metadata": {},
   "source": [
    "Строчка `el = el if el else []` эквивалентна записи\n",
    "```python\n",
    "if el:\n",
    "    el=el\n",
    "else:\n",
    "    el=[]\n",
    "```"
   ]
  },
  {
   "cell_type": "code",
   "execution_count": 46,
   "metadata": {},
   "outputs": [
    {
     "data": {
      "text/plain": [
       "22"
      ]
     },
     "execution_count": 46,
     "metadata": {},
     "output_type": "execute_result"
    }
   ],
   "source": [
    "a = 2\n",
    "b = 0\n",
    "s = (a / b) if b != 0 else 22\n",
    "s"
   ]
  },
  {
   "cell_type": "markdown",
   "metadata": {},
   "source": [
    "## Импорт библиотек"
   ]
  },
  {
   "cell_type": "markdown",
   "metadata": {},
   "source": [
    "Для подключения новых библиотек используется ключевое слово `import` после которого идет название библиотеки."
   ]
  },
  {
   "cell_type": "code",
   "execution_count": 47,
   "metadata": {},
   "outputs": [],
   "source": [
    "import random"
   ]
  },
  {
   "cell_type": "markdown",
   "metadata": {},
   "source": [
    "Теперь для доступа к функционалу библиотеки необходимо написать ее имя и через точку получить доступ.\n",
    "\n",
    "При помощи клавиши **Tab** можно получить доступ к списку всего, что находится в библиотеке. Если при этом после точки было что-то написано, будут выданы только те части, которые начинаются с уже написанного префикса. Если префикс оказывается уникальным, то будет подставлена найденная часть."
   ]
  },
  {
   "cell_type": "code",
   "execution_count": 48,
   "metadata": {},
   "outputs": [
    {
     "name": "stdout",
     "output_type": "stream",
     "text": [
      "27 0 82 90 35 6 10 40 91 77 "
     ]
    }
   ],
   "source": [
    "for i in range(10):\n",
    "    print(random.randint(0, 100), end=' ')"
   ]
  },
  {
   "cell_type": "markdown",
   "metadata": {},
   "source": [
    "Из библиотеки можно загружать только часть функционала при помощи ключевого слова `from`. В этом случае уже не надо писать имя библиотеки."
   ]
  },
  {
   "cell_type": "code",
   "execution_count": 49,
   "metadata": {},
   "outputs": [],
   "source": [
    "from copy import deepcopy"
   ]
  },
  {
   "cell_type": "code",
   "execution_count": 50,
   "metadata": {},
   "outputs": [
    {
     "data": {
      "text/plain": [
       "([1, 2, 3, [4, 5, 6]], [1, 2, 3, [100, 5, 6]])"
      ]
     },
     "execution_count": 50,
     "metadata": {},
     "output_type": "execute_result"
    }
   ],
   "source": [
    "un = [1,2,3,[4,5,6]]\n",
    "un2 = deepcopy(un)\n",
    "un2[3][0] = 100\n",
    "un, un2"
   ]
  },
  {
   "cell_type": "markdown",
   "metadata": {},
   "source": [
    "Для улобства библиотеке можно присвоить другое имя при помощи оператора `as`."
   ]
  },
  {
   "cell_type": "code",
   "execution_count": 51,
   "metadata": {},
   "outputs": [],
   "source": [
    "from bs4 import BeautifulSoup as bs"
   ]
  },
  {
   "cell_type": "markdown",
   "metadata": {},
   "source": [
    "## Работа с файлами"
   ]
  },
  {
   "cell_type": "markdown",
   "metadata": {},
   "source": [
    "Для работы с файлами используется функция `open`. В нее передается путь к файлу, режим работы с файлом и другие параметры.\n",
    "\n",
    "Режимы работы задается текстовой строкой, содержащей комбинацию следующих символов:\n",
    "- w - запись;\n",
    "- r - чтение;\n",
    "- \\+ - запись и чтение;\n",
    "- a - дозапись;\n",
    "- x - создание файла;\n",
    "- b - двоичный \n",
    "- t - текстовый.\n",
    "\n",
    "По умолчанию файл открывается на чтение в текстовом режиме.\n",
    "\n",
    "Функция возвращает объект файла, с которым возможны дальнейшие манипуляции, например:\n",
    "* write - запись; \n",
    "* read - чтение;\n",
    "* close - закрытие."
   ]
  },
  {
   "cell_type": "code",
   "execution_count": 52,
   "metadata": {},
   "outputs": [],
   "source": [
    "fil=open(\"tst.txt\", \"wt\")\n",
    "fil.write(\"Текстовая строка и число\"+str(89))\n",
    "fil.write(\"И переносы только \\nкогда скажем\\n\")\n",
    "fil.close()"
   ]
  },
  {
   "cell_type": "code",
   "execution_count": 53,
   "metadata": {},
   "outputs": [
    {
     "name": "stdout",
     "output_type": "stream",
     "text": [
      "Текстовая строка и число89И переносы только \n",
      "когда скажем\n",
      "\n"
     ]
    }
   ],
   "source": [
    "fil2=open(\"tst.txt\", \"rt\")\n",
    "a=fil2.read()\n",
    "fil2.close()\n",
    "print(a)"
   ]
  },
  {
   "cell_type": "code",
   "execution_count": 54,
   "metadata": {},
   "outputs": [
    {
     "name": "stdout",
     "output_type": "stream",
     "text": [
      "Текстовая строка и число89И переносы только \n",
      "когда скажем\n",
      "\n"
     ]
    }
   ],
   "source": [
    "fil2=open(\"tst.txt\", \"rt\")\n",
    "a=fil2.read()\n",
    "fil2.close()\n",
    "print(a)"
   ]
  },
  {
   "cell_type": "code",
   "execution_count": 55,
   "metadata": {},
   "outputs": [
    {
     "name": "stdout",
     "output_type": "stream",
     "text": [
      "Текстовая строка и число89И переносы только \n",
      "\n"
     ]
    }
   ],
   "source": [
    "fil2=open(\"tst.txt\", \"rt\")\n",
    "a=fil2.readline()\n",
    "fil2.close()\n",
    "print(a)"
   ]
  },
  {
   "cell_type": "markdown",
   "metadata": {},
   "source": [
    "С текстовым файлом можно работать как с итерируемым объектом. То есть его можно поместить в цикл for вместо списка и он будет генерировать текстовые строки."
   ]
  },
  {
   "cell_type": "code",
   "execution_count": 56,
   "metadata": {},
   "outputs": [
    {
     "name": "stdout",
     "output_type": "stream",
     "text": [
      "Текстовая строка и число89И переносы только \n",
      "когда скажем\n"
     ]
    }
   ],
   "source": [
    "fil2=open(\"tst.txt\", \"rt\")\n",
    "for a in fil2:\n",
    "    #print(a)\n",
    "    print(a[:-1])\n",
    "fil2.close()"
   ]
  },
  {
   "cell_type": "markdown",
   "metadata": {},
   "source": [
    "Файл обладает гораздо большими возможностями, с которыми можно познакомиться в документации [на встроенные функции](https://docs.python.org/3.7/library/functions.html) и [на файл](https://docs.python.org/3.7/library/io.html).\n",
    "\n",
    "Одним из удобных параметров является `encoding`, позволяющий сообщить в какой [кодировке](https://docs.python.org/3.7/library/codecs.html#standard-encodings) следует открывать файл. По умолчанию используется UTF-8."
   ]
  },
  {
   "cell_type": "code",
   "execution_count": 57,
   "metadata": {},
   "outputs": [],
   "source": [
    "fil3=open(\"tst_ansi.txt\", \"wt\", encoding=\"cp1251\")\n",
    "fil3.write(\"Текстовая строка и число\"+str(89))\n",
    "fil3.write(\"И переносы только \\nкогда скажем\\n\")\n",
    "fil3.close()"
   ]
  },
  {
   "cell_type": "markdown",
   "metadata": {},
   "source": [
    "Для работы с файлами часто используют еще одну возможность Python - `with`. Она позволяет получить объект, работать с ним какое-то время, после чего среда сама его уничтожит. В нашем случае это позволяет избавиться от строки с закрытием файла."
   ]
  },
  {
   "cell_type": "code",
   "execution_count": 58,
   "metadata": {},
   "outputs": [
    {
     "name": "stdout",
     "output_type": "stream",
     "text": [
      "Текстовая строка и число89И переносы только \n",
      "когда скажем\n"
     ]
    }
   ],
   "source": [
    "with open(\"tst.txt\", \"rt\") as fil2:\n",
    "    for a in fil2:\n",
    "        #print(a)\n",
    "        print(a[:-1])"
   ]
  },
  {
   "cell_type": "markdown",
   "metadata": {},
   "source": [
    "При работе со строками бывает удобно использовать функцию `format`, которая позволяет подставлять в заданное место значения параметров. Место разсположения значений задается при помощи фигурных скобок, помещенных в текстовую строку."
   ]
  },
  {
   "cell_type": "code",
   "execution_count": 59,
   "metadata": {},
   "outputs": [
    {
     "name": "stdout",
     "output_type": "stream",
     "text": [
      "Есть список [1, 2, 1, 5, 3, 4, 4, 5, 5] и известна его длина - 9 \n"
     ]
    }
   ],
   "source": [
    "print(\"Есть список {} и известна его длина - {} \".format(l, len(l)))"
   ]
  },
  {
   "cell_type": "markdown",
   "metadata": {},
   "source": [
    "Внутри фигурных скобок можно задавать различные параметры. Например, можно указать номер передаваемого параметра."
   ]
  },
  {
   "cell_type": "code",
   "execution_count": 60,
   "metadata": {},
   "outputs": [
    {
     "name": "stdout",
     "output_type": "stream",
     "text": [
      "Длина списка 9. Список вот - [1, 2, 1, 5, 3, 4, 4, 5, 5]. А длина в любом случае сохраняется 9\n"
     ]
    }
   ],
   "source": [
    "print(\"Длина списка {1}. Список вот - {0}. А длина в любом случае сохраняется {1}\".format(l, len(l)))"
   ]
  },
  {
   "cell_type": "markdown",
   "metadata": {},
   "source": [
    "Можно задать параметры отображения чисел или строк. Самое полное описание - в [документации](https://docs.python.org/3.7/library/string.html#formatspec)."
   ]
  },
  {
   "cell_type": "code",
   "execution_count": 61,
   "metadata": {},
   "outputs": [
    {
     "name": "stdout",
     "output_type": "stream",
     "text": [
      " 1.73 vs  1.7321\n"
     ]
    }
   ],
   "source": [
    "from math import sqrt\n",
    "\n",
    "print(\"{0:5.3} vs {0:7.5}\".format(sqrt(3)))"
   ]
  },
  {
   "cell_type": "markdown",
   "metadata": {},
   "source": [
    "Помимо этого, строки в Python [предоставляют](https://docs.python.org/2/library/stdtypes.html#string-methods) массу функций для работы с ними. Например:\n",
    "- split - разделяет строку на подстроки по заданной подстроке;\n",
    "- join - объединяет строки из списка, вставляя между ними данную строку;\n",
    "- replace - заменяет одну подстроку на другую;\n",
    "- lower, upper - приводит строку в верхнему или нижнему регистру соответственно;\n",
    "- lstrinp, rstrip, strip - удаляет пробелы в начале/конце/с двух сторон строки;\n",
    "- startswith - проверяет начинается ли строка с заданной подстроки (подстрок);\n",
    "- ...\n"
   ]
  },
  {
   "cell_type": "code",
   "execution_count": 62,
   "metadata": {},
   "outputs": [
    {
     "name": "stdout",
     "output_type": "stream",
     "text": [
      "['  Мама мыла Раму', ' а Рама краснел со сраму. ']\n",
      "  МАМА МЫЛА РАМУ _._  А РАМА КРАСНЕЛ СО СРАМУ. \n",
      "МАМА МЫЛА РАМУ _._  А РАМА КРАСНЕЛ СО СРАМУ.\n"
     ]
    }
   ],
   "source": [
    "ls=\"  Мама мыла Раму, а Рама краснел со сраму. \".split(\",\")\n",
    "print(ls)\n",
    "ss=\" _._ \".join(ls).upper()\n",
    "print(ss)\n",
    "print(ss.strip())"
   ]
  },
  {
   "cell_type": "markdown",
   "metadata": {},
   "source": [
    "Следует помнить, что строка является кортежем букв, то есть ее нельзя менять, но над ней можно осуществлять любый операции как над кортежем."
   ]
  },
  {
   "cell_type": "code",
   "execution_count": 63,
   "metadata": {},
   "outputs": [
    {
     "ename": "TypeError",
     "evalue": "'str' object does not support item assignment",
     "output_type": "error",
     "traceback": [
      "\u001b[0;31m---------------------------------------------------------------------------\u001b[0m",
      "\u001b[0;31mTypeError\u001b[0m                                 Traceback (most recent call last)",
      "\u001b[0;32m<ipython-input-63-b0f5a11bd5fb>\u001b[0m in \u001b[0;36m<module>\u001b[0;34m()\u001b[0m\n\u001b[1;32m      1\u001b[0m \u001b[0msss\u001b[0m\u001b[0;34m=\u001b[0m\u001b[0;34m\"asdfgh\"\u001b[0m\u001b[0;34m\u001b[0m\u001b[0;34m\u001b[0m\u001b[0m\n\u001b[0;32m----> 2\u001b[0;31m \u001b[0msss\u001b[0m\u001b[0;34m[\u001b[0m\u001b[0;36m1\u001b[0m\u001b[0;34m]\u001b[0m\u001b[0;34m=\u001b[0m\u001b[0;34m'e'\u001b[0m\u001b[0;34m\u001b[0m\u001b[0;34m\u001b[0m\u001b[0m\n\u001b[0m",
      "\u001b[0;31mTypeError\u001b[0m: 'str' object does not support item assignment"
     ]
    }
   ],
   "source": [
    "sss=\"asdfgh\"\n",
    "sss[1]='e'"
   ]
  },
  {
   "cell_type": "code",
   "execution_count": 64,
   "metadata": {},
   "outputs": [
    {
     "data": {
      "text/plain": [
       "'asddfgh'"
      ]
     },
     "execution_count": 64,
     "metadata": {},
     "output_type": "execute_result"
    }
   ],
   "source": [
    "sss2=sss[:3]+sss[2:]\n",
    "sss2"
   ]
  },
  {
   "cell_type": "markdown",
   "metadata": {},
   "source": [
    "Часть функционала работы со строками находится в библиотеке `string`. Например, в библиотеке находятся списки со знаками препинания, прописными и строчными буквами и так далее."
   ]
  },
  {
   "cell_type": "code",
   "execution_count": 65,
   "metadata": {},
   "outputs": [
    {
     "name": "stdout",
     "output_type": "stream",
     "text": [
      "!\"#$%&'()*+,-./:;<=>?@[\\]^_`{|}~\n",
      "[' ', '\\t', '\\n', '\\r', '\\x0b', '\\x0c']\n",
      "0123456789abcdefABCDEF\n"
     ]
    }
   ],
   "source": [
    "import string\n",
    "\n",
    "print(string.punctuation)\n",
    "print([s for s in string.whitespace])\n",
    "print(string.hexdigits)"
   ]
  },
  {
   "cell_type": "markdown",
   "metadata": {},
   "source": [
    "<hr>"
   ]
  },
  {
   "cell_type": "markdown",
   "metadata": {},
   "source": [
    "# Установка библиотек\n",
    "Для установки библиотек можно использоваать несколько возможностей. \n",
    "\n",
    "Первая из них - использование командной строки. Можно использовать обычную командную строку, а можно создать новое окно терминала из Jupyter Notebook.\n",
    "\n",
    "Вторая возможность - использовать магию Jupyter. Для этого необходимо ввести команду, начинающуюся с восклицательного знака - это будет означать выполнение консольной команды."
   ]
  },
  {
   "cell_type": "code",
   "execution_count": 66,
   "metadata": {},
   "outputs": [
    {
     "name": "stdout",
     "output_type": "stream",
     "text": [
      "tst_ansi.txt  tst.txt\r\n"
     ]
    }
   ],
   "source": [
    "!ls tst*.txt"
   ]
  },
  {
   "cell_type": "markdown",
   "metadata": {},
   "source": [
    "Для установки библиотек используется команда pip, pip3 или conda, в зависимости от того, куда ставится библиотека."
   ]
  },
  {
   "cell_type": "code",
   "execution_count": 67,
   "metadata": {},
   "outputs": [
    {
     "name": "stdout",
     "output_type": "stream",
     "text": [
      "Requirement already satisfied: natasha in /usr/local/lib/python3.6/dist-packages (0.10.0)\n",
      "Requirement already satisfied: yargy in /usr/local/lib/python3.6/dist-packages (from natasha) (0.11.0)\n",
      "Requirement already satisfied: intervaltree==2.1.0 in /usr/local/lib/python3.6/dist-packages (from yargy->natasha) (2.1.0)\n",
      "Requirement already satisfied: backports.functools-lru-cache==1.3 in /usr/local/lib/python3.6/dist-packages (from yargy->natasha) (1.3)\n",
      "Requirement already satisfied: pymorphy2==0.8 in /usr/local/lib/python3.6/dist-packages (from yargy->natasha) (0.8)\n",
      "Requirement already satisfied: sortedcontainers in /usr/local/lib/python3.6/dist-packages (from intervaltree==2.1.0->yargy->natasha) (2.0.5)\n",
      "Requirement already satisfied: pymorphy2-dicts<3.0,>=2.4 in /usr/local/lib/python3.6/dist-packages (from pymorphy2==0.8->yargy->natasha) (2.4.393442.3710985)\n",
      "Requirement already satisfied: dawg-python>=0.7 in /usr/local/lib/python3.6/dist-packages (from pymorphy2==0.8->yargy->natasha) (0.7.2)\n",
      "Requirement already satisfied: docopt>=0.6 in /usr/local/lib/python3.6/dist-packages (from pymorphy2==0.8->yargy->natasha) (0.6.2)\n"
     ]
    }
   ],
   "source": [
    "!pip3 install natasha"
   ]
  },
  {
   "cell_type": "markdown",
   "metadata": {},
   "source": [
    "# Как всё утроено внутри, или почему переменная в Python - это не ящик"
   ]
  },
  {
   "cell_type": "markdown",
   "metadata": {},
   "source": [
    "Обычно, когда вводят понятие переменной, объясняют, что переменная - это ящик, который хранит значение.\n",
    "\n",
    "Для Python это не так. В Python все переменные представляют собой ссылки на значения (которые как раз являются ящиками). В связи с этим часто возникает масса путаницы. Так, например, при присвоении сложных типов копируется именно ссылка, а не значение. Но при присвоении простых типов копируется значение."
   ]
  },
  {
   "cell_type": "code",
   "execution_count": 68,
   "metadata": {},
   "outputs": [
    {
     "name": "stdout",
     "output_type": "stream",
     "text": [
      "[1, 2, 3]\n",
      "[1, 4, 3] [1, 4, 3]\n"
     ]
    }
   ],
   "source": [
    "copy1 = [1,2,3]\n",
    "print(copy1)\n",
    "copy2 = copy1\n",
    "copy1[1] = 4\n",
    "print(copy1, copy2)"
   ]
  },
  {
   "cell_type": "markdown",
   "metadata": {},
   "source": [
    "Для того, чтобы создать именно копию значения используется функция copy из библиотеки copy."
   ]
  },
  {
   "cell_type": "code",
   "execution_count": 69,
   "metadata": {},
   "outputs": [],
   "source": [
    "from copy import copy"
   ]
  },
  {
   "cell_type": "code",
   "execution_count": 70,
   "metadata": {},
   "outputs": [
    {
     "name": "stdout",
     "output_type": "stream",
     "text": [
      "[1, 2, 3]\n",
      "[1, 4, 3] [1, 2, 3]\n"
     ]
    }
   ],
   "source": [
    "copy1 = [1,2,3]\n",
    "print(copy1)\n",
    "copy2 = copy(copy1)\n",
    "copy1[1] = 4\n",
    "print(copy1, copy2)"
   ]
  },
  {
   "cell_type": "markdown",
   "metadata": {},
   "source": [
    "Но эта функция создает \"поверхностную\" копию объекта - она не копирует значения объектов, хранящихся в объекте."
   ]
  },
  {
   "cell_type": "code",
   "execution_count": 71,
   "metadata": {},
   "outputs": [
    {
     "name": "stdout",
     "output_type": "stream",
     "text": [
      "[1, 2, 3, [4, 5]]\n",
      "[1, 2, 3, [6, 5]] [1, 2, 3, [6, 5]]\n"
     ]
    }
   ],
   "source": [
    "copy1 = [1, 2, 3, [4, 5]]\n",
    "print(copy1)\n",
    "copy2 = copy(copy1)\n",
    "copy1[3][0] = 6\n",
    "print(copy1, copy2)"
   ]
  },
  {
   "cell_type": "markdown",
   "metadata": {},
   "source": [
    "Для того, чтобы создать полную копию объекта используется функция deepcopy из библиотеки copy (мы уже импортировали ее выше)."
   ]
  },
  {
   "cell_type": "code",
   "execution_count": 72,
   "metadata": {},
   "outputs": [
    {
     "name": "stdout",
     "output_type": "stream",
     "text": [
      "[1, 2, 3, [4, 5]]\n",
      "[1, 2, 3, [6, 5]] [1, 2, 3, [4, 5]]\n"
     ]
    }
   ],
   "source": [
    "copy1 = [1, 2, 3, [4, 5]]\n",
    "print(copy1)\n",
    "copy2 = deepcopy(copy1)\n",
    "copy1[3][0] = 6\n",
    "print(copy1, copy2)"
   ]
  }
 ],
 "metadata": {
  "kernelspec": {
   "display_name": "Python 3",
   "language": "python",
   "name": "python3"
  },
  "language_info": {
   "codemirror_mode": {
    "name": "ipython",
    "version": 3
   },
   "file_extension": ".py",
   "mimetype": "text/x-python",
   "name": "python",
   "nbconvert_exporter": "python",
   "pygments_lexer": "ipython3",
   "version": "3.6.9"
  }
 },
 "nbformat": 4,
 "nbformat_minor": 2
}
